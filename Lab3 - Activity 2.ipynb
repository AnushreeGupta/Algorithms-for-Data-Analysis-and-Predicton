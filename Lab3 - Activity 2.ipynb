{
 "cells": [
  {
   "cell_type": "markdown",
   "metadata": {},
   "source": [
    "## Activity 2: K-nn classification with credit data\n",
    "\n",
    "This data is similar to the class activity and also the one described in the text book Doing Data Science Chapter 3 for K-nn. Repeat it for the German Data given in UbBox [2]. \n",
    "\n",
    "Tabulate your results for various K. Also try it for various sizes for test and training set (20-80%, 30-70%, etc.) Get gata from Kaggle or from here: https://buffalo.box.com/s/jm1hki9hbnlm4kzfkaimkzilys3dm8dg\n"
   ]
  },
  {
   "cell_type": "markdown",
   "metadata": {},
   "source": [
    "### Reading and cleaning the data to get a usable dataset"
   ]
  },
  {
   "cell_type": "code",
   "execution_count": 1,
   "metadata": {
    "collapsed": false
   },
   "outputs": [
    {
     "data": {
      "text/html": [
       "<table>\n",
       "<thead><tr><th scope=col>X.</th><th scope=col>Age</th><th scope=col>Sex</th><th scope=col>Job</th><th scope=col>Housing</th><th scope=col>Saving.accounts</th><th scope=col>Checking.account</th><th scope=col>Credit.amount</th><th scope=col>Duration</th><th scope=col>Purpose</th><th scope=col>Credit.Risks</th></tr></thead>\n",
       "<tbody>\n",
       "\t<tr><td>0                  </td><td>67                 </td><td>male               </td><td>2                  </td><td>own                </td><td>NA                 </td><td>little             </td><td>1169               </td><td> 6                 </td><td>radio/TV           </td><td>1                  </td></tr>\n",
       "\t<tr><td>1                  </td><td>22                 </td><td>female             </td><td>2                  </td><td>own                </td><td>little             </td><td>moderate           </td><td>5951               </td><td>48                 </td><td>radio/TV           </td><td>2                  </td></tr>\n",
       "\t<tr><td>2                  </td><td>49                 </td><td>male               </td><td>1                  </td><td>own                </td><td>little             </td><td>NA                 </td><td>2096               </td><td>12                 </td><td>education          </td><td>1                  </td></tr>\n",
       "\t<tr><td>3                  </td><td>45                 </td><td>male               </td><td>2                  </td><td>free               </td><td>little             </td><td>little             </td><td>7882               </td><td>42                 </td><td>furniture/equipment</td><td>1                  </td></tr>\n",
       "\t<tr><td>4                  </td><td>53                 </td><td>male               </td><td>2                  </td><td>free               </td><td>little             </td><td>little             </td><td>4870               </td><td>24                 </td><td>car                </td><td>2                  </td></tr>\n",
       "\t<tr><td>5                  </td><td>35                 </td><td>male               </td><td>1                  </td><td>free               </td><td>NA                 </td><td>NA                 </td><td>9055               </td><td>36                 </td><td>education          </td><td>1                  </td></tr>\n",
       "</tbody>\n",
       "</table>\n"
      ],
      "text/latex": [
       "\\begin{tabular}{r|lllllllllll}\n",
       " X. & Age & Sex & Job & Housing & Saving.accounts & Checking.account & Credit.amount & Duration & Purpose & Credit.Risks\\\\\n",
       "\\hline\n",
       "\t 0                   & 67                  & male                & 2                   & own                 & NA                  & little              & 1169                &  6                  & radio/TV            & 1                  \\\\\n",
       "\t 1                   & 22                  & female              & 2                   & own                 & little              & moderate            & 5951                & 48                  & radio/TV            & 2                  \\\\\n",
       "\t 2                   & 49                  & male                & 1                   & own                 & little              & NA                  & 2096                & 12                  & education           & 1                  \\\\\n",
       "\t 3                   & 45                  & male                & 2                   & free                & little              & little              & 7882                & 42                  & furniture/equipment & 1                  \\\\\n",
       "\t 4                   & 53                  & male                & 2                   & free                & little              & little              & 4870                & 24                  & car                 & 2                  \\\\\n",
       "\t 5                   & 35                  & male                & 1                   & free                & NA                  & NA                  & 9055                & 36                  & education           & 1                  \\\\\n",
       "\\end{tabular}\n"
      ],
      "text/markdown": [
       "\n",
       "X. | Age | Sex | Job | Housing | Saving.accounts | Checking.account | Credit.amount | Duration | Purpose | Credit.Risks | \n",
       "|---|---|---|---|---|---|\n",
       "| 0                   | 67                  | male                | 2                   | own                 | NA                  | little              | 1169                |  6                  | radio/TV            | 1                   | \n",
       "| 1                   | 22                  | female              | 2                   | own                 | little              | moderate            | 5951                | 48                  | radio/TV            | 2                   | \n",
       "| 2                   | 49                  | male                | 1                   | own                 | little              | NA                  | 2096                | 12                  | education           | 1                   | \n",
       "| 3                   | 45                  | male                | 2                   | free                | little              | little              | 7882                | 42                  | furniture/equipment | 1                   | \n",
       "| 4                   | 53                  | male                | 2                   | free                | little              | little              | 4870                | 24                  | car                 | 2                   | \n",
       "| 5                   | 35                  | male                | 1                   | free                | NA                  | NA                  | 9055                | 36                  | education           | 1                   | \n",
       "\n",
       "\n"
      ],
      "text/plain": [
       "  X. Age Sex    Job Housing Saving.accounts Checking.account Credit.amount\n",
       "1 0  67  male   2   own     NA              little           1169         \n",
       "2 1  22  female 2   own     little          moderate         5951         \n",
       "3 2  49  male   1   own     little          NA               2096         \n",
       "4 3  45  male   2   free    little          little           7882         \n",
       "5 4  53  male   2   free    little          little           4870         \n",
       "6 5  35  male   1   free    NA              NA               9055         \n",
       "  Duration Purpose             Credit.Risks\n",
       "1  6       radio/TV            1           \n",
       "2 48       radio/TV            2           \n",
       "3 12       education           1           \n",
       "4 42       furniture/equipment 1           \n",
       "5 24       car                 2           \n",
       "6 36       education           1           "
      ]
     },
     "metadata": {},
     "output_type": "display_data"
    }
   ],
   "source": [
    "#Read the data set from the csv file\n",
    "\n",
    "df <- read.csv(\"lab3Data/german_credit_data1.csv\")\n",
    "head(df)"
   ]
  },
  {
   "cell_type": "code",
   "execution_count": 2,
   "metadata": {
    "collapsed": false
   },
   "outputs": [
    {
     "name": "stdout",
     "output_type": "stream",
     "text": [
      "'data.frame':\t1000 obs. of  11 variables:\n",
      " $ X.              : int  0 1 2 3 4 5 6 7 8 9 ...\n",
      " $ Age             : int  67 22 49 45 53 35 53 35 61 28 ...\n",
      " $ Sex             : Factor w/ 2 levels \"female\",\"male\": 2 1 2 2 2 2 2 2 2 2 ...\n",
      " $ Job             : int  2 2 1 2 2 1 2 3 1 3 ...\n",
      " $ Housing         : Factor w/ 3 levels \"free\",\"own\",\"rent\": 2 2 2 1 1 1 2 3 2 2 ...\n",
      " $ Saving.accounts : Factor w/ 4 levels \"little\",\"moderate\",..: NA 1 1 1 1 NA 3 1 4 1 ...\n",
      " $ Checking.account: Factor w/ 3 levels \"little\",\"moderate\",..: 1 2 NA 1 1 NA NA 2 NA 2 ...\n",
      " $ Credit.amount   : int  1169 5951 2096 7882 4870 9055 2835 6948 3059 5234 ...\n",
      " $ Duration        : int  6 48 12 42 24 36 24 36 12 30 ...\n",
      " $ Purpose         : Factor w/ 8 levels \"business\",\"car\",..: 6 6 4 5 2 4 5 2 6 2 ...\n",
      " $ Credit.Risks    : int  1 2 1 1 2 1 1 1 1 2 ...\n"
     ]
    }
   ],
   "source": [
    "# Analyzing the structure of the data\n",
    "\n",
    "str(df)"
   ]
  },
  {
   "cell_type": "code",
   "execution_count": 3,
   "metadata": {
    "collapsed": false
   },
   "outputs": [
    {
     "data": {
      "text/plain": [
       "       X.             Age            Sex           Job        Housing   \n",
       " Min.   :  0.0   Min.   :19.00   female:310   Min.   :0.000   free:108  \n",
       " 1st Qu.:249.8   1st Qu.:27.00   male  :690   1st Qu.:2.000   own :713  \n",
       " Median :499.5   Median :33.00                Median :2.000   rent:179  \n",
       " Mean   :499.5   Mean   :35.55                Mean   :1.904             \n",
       " 3rd Qu.:749.2   3rd Qu.:42.00                3rd Qu.:2.000             \n",
       " Max.   :999.0   Max.   :75.00                Max.   :3.000             \n",
       "                                                                        \n",
       "   Saving.accounts Checking.account Credit.amount      Duration   \n",
       " little    :603    little  :274     Min.   :  250   Min.   : 4.0  \n",
       " moderate  :103    moderate:269     1st Qu.: 1366   1st Qu.:12.0  \n",
       " quite rich: 63    rich    : 63     Median : 2320   Median :18.0  \n",
       " rich      : 48    NA's    :394     Mean   : 3271   Mean   :20.9  \n",
       " NA's      :183                     3rd Qu.: 3972   3rd Qu.:24.0  \n",
       "                                    Max.   :18424   Max.   :72.0  \n",
       "                                                                  \n",
       "                Purpose     Credit.Risks\n",
       " car                :337   Min.   :1.0  \n",
       " radio/TV           :280   1st Qu.:1.0  \n",
       " furniture/equipment:181   Median :1.0  \n",
       " business           : 97   Mean   :1.3  \n",
       " education          : 59   3rd Qu.:2.0  \n",
       " repairs            : 22   Max.   :2.0  \n",
       " (Other)            : 24                "
      ]
     },
     "metadata": {},
     "output_type": "display_data"
    }
   ],
   "source": [
    "#Summarizing the different values in the table\n",
    "\n",
    "summary(df)"
   ]
  },
  {
   "cell_type": "code",
   "execution_count": 4,
   "metadata": {
    "collapsed": false
   },
   "outputs": [
    {
     "name": "stdout",
     "output_type": "stream",
     "text": [
      "'data.frame':\t522 obs. of  11 variables:\n",
      " $ X.              : int  1 3 4 7 9 10 11 12 13 14 ...\n",
      " $ Age             : int  22 45 53 35 28 25 24 22 60 28 ...\n",
      " $ Sex             : Factor w/ 2 levels \"female\",\"male\": 1 2 2 2 2 1 1 1 2 1 ...\n",
      " $ Job             : int  2 2 2 3 3 2 2 2 1 2 ...\n",
      " $ Housing         : Factor w/ 3 levels \"free\",\"own\",\"rent\": 2 1 1 3 2 3 3 2 2 3 ...\n",
      " $ Saving.accounts : Factor w/ 4 levels \"little\",\"moderate\",..: 1 1 1 1 1 1 1 1 1 1 ...\n",
      " $ Checking.account: Factor w/ 3 levels \"little\",\"moderate\",..: 2 1 1 2 2 2 1 2 1 1 ...\n",
      " $ Credit.amount   : int  5951 7882 4870 6948 5234 1295 4308 1567 1199 1403 ...\n",
      " $ Duration        : int  48 42 24 36 30 12 48 12 24 15 ...\n",
      " $ Purpose         : Factor w/ 8 levels \"business\",\"car\",..: 6 5 2 2 2 2 1 6 2 2 ...\n",
      " $ Credit.Risks    : int  2 1 2 1 2 2 2 1 2 1 ...\n",
      " - attr(*, \"na.action\")=Class 'omit'  Named int [1:478] 1 3 6 7 9 17 18 20 21 25 ...\n",
      "  .. ..- attr(*, \"names\")= chr [1:478] \"1\" \"3\" \"6\" \"7\" ...\n"
     ]
    }
   ],
   "source": [
    "# Omitting the rows containing NA values from the data to get a clean data\n",
    "\n",
    "new_df <- na.omit(df)\n",
    "str(new_df)"
   ]
  },
  {
   "cell_type": "markdown",
   "metadata": {},
   "source": [
    "### Converting the Factored columns - Age, Sex, Savings Account, Checking Account and Purpose to their Integer forms so that they can be used for classification"
   ]
  },
  {
   "cell_type": "code",
   "execution_count": 5,
   "metadata": {
    "collapsed": false
   },
   "outputs": [],
   "source": [
    "#Converting Sex data to numeric\n",
    "\n",
    "levels(new_df$Sex) <- c('1', '2')\n",
    "new_df$Sex <- as.numeric(as.character(new_df$Sex))\n"
   ]
  },
  {
   "cell_type": "code",
   "execution_count": 6,
   "metadata": {
    "collapsed": false
   },
   "outputs": [],
   "source": [
    "#Converting Savings.account data to numeric\n",
    "\n",
    "levels(new_df$Saving.accounts) <- c('1', '2', '3', '4')\n",
    "new_df$Saving.accounts <- as.numeric(as.character(new_df$Saving.accounts))\n"
   ]
  },
  {
   "cell_type": "code",
   "execution_count": 7,
   "metadata": {
    "collapsed": false
   },
   "outputs": [],
   "source": [
    "#Converting Checking.account data to numeric\n",
    "\n",
    "levels(new_df$Checking.account) <- c('1', '2', '3')\n",
    "new_df$Checking.account <- as.numeric(as.character(new_df$Checking.account))\n"
   ]
  },
  {
   "cell_type": "code",
   "execution_count": 8,
   "metadata": {
    "collapsed": true
   },
   "outputs": [],
   "source": [
    "#Converting Housing data to numeric\n",
    "\n",
    "levels(new_df$Housing) <- c('1', '2', '3')\n",
    "new_df$Housing <- as.numeric(as.character(new_df$Housing))"
   ]
  },
  {
   "cell_type": "code",
   "execution_count": 9,
   "metadata": {
    "collapsed": true
   },
   "outputs": [],
   "source": [
    "#Converting Purpose data to numeric\n",
    "\n",
    "levels(new_df$Purpose) <- c('1', '2', '3', '4', '5', '6', '7', '8')\n",
    "new_df$Purpose <- as.numeric(as.character(new_df$Purpose))"
   ]
  },
  {
   "cell_type": "code",
   "execution_count": 10,
   "metadata": {
    "collapsed": false
   },
   "outputs": [
    {
     "name": "stdout",
     "output_type": "stream",
     "text": [
      "'data.frame':\t522 obs. of  11 variables:\n",
      " $ X.              : int  1 3 4 7 9 10 11 12 13 14 ...\n",
      " $ Age             : int  22 45 53 35 28 25 24 22 60 28 ...\n",
      " $ Sex             : num  1 2 2 2 2 1 1 1 2 1 ...\n",
      " $ Job             : int  2 2 2 3 3 2 2 2 1 2 ...\n",
      " $ Housing         : num  2 1 1 3 2 3 3 2 2 3 ...\n",
      " $ Saving.accounts : num  1 1 1 1 1 1 1 1 1 1 ...\n",
      " $ Checking.account: num  2 1 1 2 2 2 1 2 1 1 ...\n",
      " $ Credit.amount   : int  5951 7882 4870 6948 5234 1295 4308 1567 1199 1403 ...\n",
      " $ Duration        : int  48 42 24 36 30 12 48 12 24 15 ...\n",
      " $ Purpose         : num  6 5 2 2 2 2 1 6 2 2 ...\n",
      " $ Credit.Risks    : int  2 1 2 1 2 2 2 1 2 1 ...\n",
      " - attr(*, \"na.action\")=Class 'omit'  Named int [1:478] 1 3 6 7 9 17 18 20 21 25 ...\n",
      "  .. ..- attr(*, \"names\")= chr [1:478] \"1\" \"3\" \"6\" \"7\" ...\n"
     ]
    }
   ],
   "source": [
    "str(new_df)"
   ]
  },
  {
   "cell_type": "markdown",
   "metadata": {},
   "source": [
    "### Normalizing the data set so that all the columns have similar range of values"
   ]
  },
  {
   "cell_type": "code",
   "execution_count": 11,
   "metadata": {
    "collapsed": true
   },
   "outputs": [],
   "source": [
    "# Scale() function can be used to normalize the data\n",
    "\n",
    "df_n <- scale(new_df)"
   ]
  },
  {
   "cell_type": "code",
   "execution_count": 12,
   "metadata": {
    "collapsed": false
   },
   "outputs": [
    {
     "data": {
      "text/plain": [
       "       X.                Age               Sex               Job         \n",
       " Min.   :-1.69176   Min.   :-1.3479   Min.   :-1.4502   Min.   :-2.7467  \n",
       " 1st Qu.:-0.89315   1st Qu.:-0.7541   1st Qu.:-1.4502   1st Qu.: 0.1824  \n",
       " Median : 0.03084   Median :-0.2875   Median : 0.6882   Median : 0.1824  \n",
       " Mean   : 0.00000   Mean   : 0.0000   Mean   : 0.0000   Mean   : 0.0000  \n",
       " 3rd Qu.: 0.83546   3rd Qu.: 0.5184   3rd Qu.: 0.6882   3rd Qu.: 0.1824  \n",
       " Max.   : 1.73625   Max.   : 3.4027   Max.   : 0.6882   Max.   : 1.6469  \n",
       "    Housing        Saving.accounts   Checking.account  Credit.amount    \n",
       " Min.   :-1.8979   Min.   :-0.4507   Min.   :-0.9569   Min.   :-1.0251  \n",
       " 1st Qu.:-0.1444   1st Qu.:-0.4507   1st Qu.:-0.9569   1st Qu.:-0.6764  \n",
       " Median :-0.1444   Median :-0.4507   Median : 0.5568   Median :-0.3251  \n",
       " Mean   : 0.0000   Mean   : 0.0000   Mean   : 0.0000   Mean   : 0.0000  \n",
       " 3rd Qu.:-0.1444   3rd Qu.:-0.4507   3rd Qu.: 0.5568   3rd Qu.: 0.2364  \n",
       " Max.   : 1.6090   Max.   : 3.4922   Max.   : 2.0705   Max.   : 5.1705  \n",
       "    Duration          Purpose         Credit.Risks    \n",
       " Min.   :-1.2297   Min.   :-1.4446   Min.   :-0.8901  \n",
       " 1st Qu.:-0.7487   1st Qu.:-0.9432   1st Qu.:-0.8901  \n",
       " Median :-0.2677   Median : 0.5609   Median :-0.8901  \n",
       " Mean   : 0.0000   Mean   : 0.0000   Mean   : 0.0000  \n",
       " 3rd Qu.: 0.4338   3rd Qu.: 1.0623   3rd Qu.: 1.1213  \n",
       " Max.   : 4.0613   Max.   : 2.0650   Max.   : 1.1213  "
      ]
     },
     "metadata": {},
     "output_type": "display_data"
    }
   ],
   "source": [
    "# Taking summary of the data to check the values after normalization\n",
    "\n",
    "summary(df_n)"
   ]
  },
  {
   "cell_type": "markdown",
   "metadata": {},
   "source": [
    "### Performing the model for Training Set = 90% and Test Set = 10%"
   ]
  },
  {
   "cell_type": "code",
   "execution_count": 13,
   "metadata": {
    "collapsed": true
   },
   "outputs": [],
   "source": [
    "#Sampling and dividing the data set into sets of 10% for testing and 90% for training. \n",
    "\n",
    "n.points <- nrow(df_n)\n",
    "set.seed(100)\n",
    "sampling.rate <- 0.9"
   ]
  },
  {
   "cell_type": "code",
   "execution_count": 14,
   "metadata": {
    "collapsed": true
   },
   "outputs": [],
   "source": [
    "# We need the number of points in the test set to calculate the misclassification rate\n",
    "\n",
    "num.test.set.labels <- n.points * (1 - sampling.rate)"
   ]
  },
  {
   "cell_type": "markdown",
   "metadata": {},
   "source": [
    "#### Separating the Training Set and True labels for it."
   ]
  },
  {
   "cell_type": "code",
   "execution_count": 15,
   "metadata": {
    "collapsed": false
   },
   "outputs": [],
   "source": [
    "# Randomly sample which rows will go in the training set\n",
    "\n",
    "training <- sample(1:n.points, sampling.rate * n.points, replace=FALSE)"
   ]
  },
  {
   "cell_type": "code",
   "execution_count": 16,
   "metadata": {
    "collapsed": false
   },
   "outputs": [],
   "source": [
    "# Define the training set to be those rows\n",
    "\n",
    "df_train1 <- subset(df_n[training, ], select = c(Age:Purpose))\n",
    "df_train1_target <- new_df$Credit.Risks[training]"
   ]
  },
  {
   "cell_type": "markdown",
   "metadata": {},
   "source": [
    "#### Separating the Test Set and True labels for it."
   ]
  },
  {
   "cell_type": "code",
   "execution_count": 17,
   "metadata": {
    "collapsed": true
   },
   "outputs": [],
   "source": [
    "# Selecting the remaining rows for test set\n",
    "\n",
    "testing <- setdiff(1:n.points, training)"
   ]
  },
  {
   "cell_type": "code",
   "execution_count": 18,
   "metadata": {
    "collapsed": true
   },
   "outputs": [],
   "source": [
    "# define the test set to be the other rows\n",
    "\n",
    "df_test1 <- subset(df_n[testing, ], select = c(Age:Purpose))\n",
    "df_test1_target <- new_df$Credit.Risks[testing]"
   ]
  },
  {
   "cell_type": "markdown",
   "metadata": {},
   "source": [
    "#### Applying kNN on the training and test sets to get the accuracy and misclassification"
   ]
  },
  {
   "cell_type": "code",
   "execution_count": 19,
   "metadata": {
    "collapsed": false
   },
   "outputs": [
    {
     "name": "stderr",
     "output_type": "stream",
     "text": [
      "Loading required package: class\n"
     ]
    }
   ],
   "source": [
    "require(class)"
   ]
  },
  {
   "cell_type": "code",
   "execution_count": 20,
   "metadata": {
    "collapsed": false
   },
   "outputs": [],
   "source": [
    "accuracy <- rep(0, 20)\n",
    "misclassification <- rep(0, 20)\n",
    "k <- 1:20\n",
    "\n",
    "for(x in k){\n",
    "    prediction <- knn(train = df_train1, test = df_test1, cl = df_train1_target, k = x)\n",
    "    accuracy[x] <- mean(df_test1_target == prediction)\n",
    "    misclassification[x] <- 1- accuracy[x]\n",
    "}"
   ]
  },
  {
   "cell_type": "code",
   "execution_count": 21,
   "metadata": {
    "collapsed": false,
    "scrolled": true
   },
   "outputs": [
    {
     "data": {
      "text/html": [
       "<table>\n",
       "<thead><tr><th scope=col>k</th><th scope=col>Train(90): Accuracy</th><th scope=col>Train(90): Misclassification</th></tr></thead>\n",
       "<tbody>\n",
       "\t<tr><td> 1       </td><td>0.4905660</td><td>0.5094340</td></tr>\n",
       "\t<tr><td> 2       </td><td>0.5283019</td><td>0.4716981</td></tr>\n",
       "\t<tr><td> 3       </td><td>0.5849057</td><td>0.4150943</td></tr>\n",
       "\t<tr><td> 4       </td><td>0.5283019</td><td>0.4716981</td></tr>\n",
       "\t<tr><td> 5       </td><td>0.5094340</td><td>0.4905660</td></tr>\n",
       "\t<tr><td> 6       </td><td>0.5660377</td><td>0.4339623</td></tr>\n",
       "\t<tr><td> 7       </td><td>0.4905660</td><td>0.5094340</td></tr>\n",
       "\t<tr><td> 8       </td><td>0.5283019</td><td>0.4716981</td></tr>\n",
       "\t<tr><td> 9       </td><td>0.5283019</td><td>0.4716981</td></tr>\n",
       "\t<tr><td>10       </td><td>0.5660377</td><td>0.4339623</td></tr>\n",
       "\t<tr><td>11       </td><td>0.5660377</td><td>0.4339623</td></tr>\n",
       "\t<tr><td>12       </td><td>0.5094340</td><td>0.4905660</td></tr>\n",
       "\t<tr><td>13       </td><td>0.5660377</td><td>0.4339623</td></tr>\n",
       "\t<tr><td>14       </td><td>0.5660377</td><td>0.4339623</td></tr>\n",
       "\t<tr><td>15       </td><td>0.6037736</td><td>0.3962264</td></tr>\n",
       "\t<tr><td>16       </td><td>0.6226415</td><td>0.3773585</td></tr>\n",
       "\t<tr><td>17       </td><td>0.6226415</td><td>0.3773585</td></tr>\n",
       "\t<tr><td>18       </td><td>0.6415094</td><td>0.3584906</td></tr>\n",
       "\t<tr><td>19       </td><td>0.6603774</td><td>0.3396226</td></tr>\n",
       "\t<tr><td>20       </td><td>0.6415094</td><td>0.3584906</td></tr>\n",
       "</tbody>\n",
       "</table>\n"
      ],
      "text/latex": [
       "\\begin{tabular}{r|lll}\n",
       " k & Train(90): Accuracy & Train(90): Misclassification\\\\\n",
       "\\hline\n",
       "\t  1        & 0.4905660 & 0.5094340\\\\\n",
       "\t  2        & 0.5283019 & 0.4716981\\\\\n",
       "\t  3        & 0.5849057 & 0.4150943\\\\\n",
       "\t  4        & 0.5283019 & 0.4716981\\\\\n",
       "\t  5        & 0.5094340 & 0.4905660\\\\\n",
       "\t  6        & 0.5660377 & 0.4339623\\\\\n",
       "\t  7        & 0.4905660 & 0.5094340\\\\\n",
       "\t  8        & 0.5283019 & 0.4716981\\\\\n",
       "\t  9        & 0.5283019 & 0.4716981\\\\\n",
       "\t 10        & 0.5660377 & 0.4339623\\\\\n",
       "\t 11        & 0.5660377 & 0.4339623\\\\\n",
       "\t 12        & 0.5094340 & 0.4905660\\\\\n",
       "\t 13        & 0.5660377 & 0.4339623\\\\\n",
       "\t 14        & 0.5660377 & 0.4339623\\\\\n",
       "\t 15        & 0.6037736 & 0.3962264\\\\\n",
       "\t 16        & 0.6226415 & 0.3773585\\\\\n",
       "\t 17        & 0.6226415 & 0.3773585\\\\\n",
       "\t 18        & 0.6415094 & 0.3584906\\\\\n",
       "\t 19        & 0.6603774 & 0.3396226\\\\\n",
       "\t 20        & 0.6415094 & 0.3584906\\\\\n",
       "\\end{tabular}\n"
      ],
      "text/markdown": [
       "\n",
       "k | Train(90): Accuracy | Train(90): Misclassification | \n",
       "|---|---|---|---|---|---|---|---|---|---|---|---|---|---|---|---|---|---|---|---|\n",
       "|  1        | 0.4905660 | 0.5094340 | \n",
       "|  2        | 0.5283019 | 0.4716981 | \n",
       "|  3        | 0.5849057 | 0.4150943 | \n",
       "|  4        | 0.5283019 | 0.4716981 | \n",
       "|  5        | 0.5094340 | 0.4905660 | \n",
       "|  6        | 0.5660377 | 0.4339623 | \n",
       "|  7        | 0.4905660 | 0.5094340 | \n",
       "|  8        | 0.5283019 | 0.4716981 | \n",
       "|  9        | 0.5283019 | 0.4716981 | \n",
       "| 10        | 0.5660377 | 0.4339623 | \n",
       "| 11        | 0.5660377 | 0.4339623 | \n",
       "| 12        | 0.5094340 | 0.4905660 | \n",
       "| 13        | 0.5660377 | 0.4339623 | \n",
       "| 14        | 0.5660377 | 0.4339623 | \n",
       "| 15        | 0.6037736 | 0.3962264 | \n",
       "| 16        | 0.6226415 | 0.3773585 | \n",
       "| 17        | 0.6226415 | 0.3773585 | \n",
       "| 18        | 0.6415094 | 0.3584906 | \n",
       "| 19        | 0.6603774 | 0.3396226 | \n",
       "| 20        | 0.6415094 | 0.3584906 | \n",
       "\n",
       "\n"
      ],
      "text/plain": [
       "   k  Train(90): Accuracy Train(90): Misclassification\n",
       "1   1 0.4905660           0.5094340                   \n",
       "2   2 0.5283019           0.4716981                   \n",
       "3   3 0.5849057           0.4150943                   \n",
       "4   4 0.5283019           0.4716981                   \n",
       "5   5 0.5094340           0.4905660                   \n",
       "6   6 0.5660377           0.4339623                   \n",
       "7   7 0.4905660           0.5094340                   \n",
       "8   8 0.5283019           0.4716981                   \n",
       "9   9 0.5283019           0.4716981                   \n",
       "10 10 0.5660377           0.4339623                   \n",
       "11 11 0.5660377           0.4339623                   \n",
       "12 12 0.5094340           0.4905660                   \n",
       "13 13 0.5660377           0.4339623                   \n",
       "14 14 0.5660377           0.4339623                   \n",
       "15 15 0.6037736           0.3962264                   \n",
       "16 16 0.6226415           0.3773585                   \n",
       "17 17 0.6226415           0.3773585                   \n",
       "18 18 0.6415094           0.3584906                   \n",
       "19 19 0.6603774           0.3396226                   \n",
       "20 20 0.6415094           0.3584906                   "
      ]
     },
     "metadata": {},
     "output_type": "display_data"
    }
   ],
   "source": [
    "result1 <- as.data.frame(mapply(cbind, list(k, accuracy, misclassification)))\n",
    "names(result1) <- c(\"k\", \"Train(90): Accuracy\", \"Train(90): Misclassification\")\n",
    "result1"
   ]
  },
  {
   "cell_type": "code",
   "execution_count": 22,
   "metadata": {
    "collapsed": false
   },
   "outputs": [
    {
     "data": {
      "text/html": [
       "0.339622641509434"
      ],
      "text/latex": [
       "0.339622641509434"
      ],
      "text/markdown": [
       "0.339622641509434"
      ],
      "text/plain": [
       "[1] 0.3396226"
      ]
     },
     "metadata": {},
     "output_type": "display_data"
    }
   ],
   "source": [
    "min(result1$\"Train(90): Misclassification\")"
   ]
  },
  {
   "cell_type": "markdown",
   "metadata": {},
   "source": [
    "### Performing the model for Training Set = 80% and Test Set = 20%"
   ]
  },
  {
   "cell_type": "code",
   "execution_count": 23,
   "metadata": {
    "collapsed": true
   },
   "outputs": [],
   "source": [
    "#Sampling and dividing the data set into sets of 20% for testing and 80% for training. \n",
    "\n",
    "n.points <- nrow(df_n)\n",
    "set.seed(100)\n",
    "sampling.rate <- 0.8"
   ]
  },
  {
   "cell_type": "code",
   "execution_count": 24,
   "metadata": {
    "collapsed": true
   },
   "outputs": [],
   "source": [
    "# We need the number of points in the test set to calculate the misclassification rate\n",
    "\n",
    "num.test.set.labels <- n.points * (1 - sampling.rate)"
   ]
  },
  {
   "cell_type": "markdown",
   "metadata": {},
   "source": [
    "#### Separating the Training Set and True labels for it."
   ]
  },
  {
   "cell_type": "code",
   "execution_count": 25,
   "metadata": {
    "collapsed": true
   },
   "outputs": [],
   "source": [
    "# Randomly sample which rows will go in the training set\n",
    "\n",
    "training <- sample(1:n.points, sampling.rate * n.points, replace=FALSE)"
   ]
  },
  {
   "cell_type": "code",
   "execution_count": 26,
   "metadata": {
    "collapsed": true
   },
   "outputs": [],
   "source": [
    "# Define the training set to be those rows\n",
    "\n",
    "df_train2 <- subset(df_n[training, ], select = c(Age:Purpose))\n",
    "df_train2_target <- new_df$Credit.Risks[training]"
   ]
  },
  {
   "cell_type": "markdown",
   "metadata": {},
   "source": [
    "#### Separating the Test Set and True labels for it."
   ]
  },
  {
   "cell_type": "code",
   "execution_count": 27,
   "metadata": {
    "collapsed": true
   },
   "outputs": [],
   "source": [
    "# Selecting the remaining rows for test set\n",
    "\n",
    "testing <- setdiff(1:n.points, training)"
   ]
  },
  {
   "cell_type": "code",
   "execution_count": 28,
   "metadata": {
    "collapsed": true
   },
   "outputs": [],
   "source": [
    "# define the test set to be the other rows\n",
    "\n",
    "df_test2 <- subset(df_n[testing, ], select = c(Age:Purpose))\n",
    "df_test2_target <- new_df$Credit.Risks[testing]"
   ]
  },
  {
   "cell_type": "markdown",
   "metadata": {},
   "source": [
    "#### Applying kNN on the training and test sets to get the accuracy and misclassification"
   ]
  },
  {
   "cell_type": "code",
   "execution_count": 29,
   "metadata": {
    "collapsed": false
   },
   "outputs": [],
   "source": [
    "require(class)"
   ]
  },
  {
   "cell_type": "code",
   "execution_count": 69,
   "metadata": {
    "collapsed": false
   },
   "outputs": [],
   "source": [
    "accuracy <- rep(0, 20)\n",
    "misclassification <- rep(0, 20)\n",
    "k <- 1:20\n",
    "\n",
    "for(x in k){\n",
    "    prediction <- knn(train = df_train2, test = df_test2, cl = df_train2_target, k = x)\n",
    "    accuracy[x] <- mean(df_test2_target == prediction)\n",
    "    misclassification[x] <- 1- accuracy[x]\n",
    "}"
   ]
  },
  {
   "cell_type": "code",
   "execution_count": 70,
   "metadata": {
    "collapsed": false,
    "scrolled": true
   },
   "outputs": [
    {
     "data": {
      "text/html": [
       "<table>\n",
       "<thead><tr><th scope=col>k</th><th scope=col>Train(80): Accuracy</th><th scope=col>Train(80): Misclassification</th></tr></thead>\n",
       "<tbody>\n",
       "\t<tr><td> 1       </td><td>0.5523810</td><td>0.4476190</td></tr>\n",
       "\t<tr><td> 2       </td><td>0.5714286</td><td>0.4285714</td></tr>\n",
       "\t<tr><td> 3       </td><td>0.5904762</td><td>0.4095238</td></tr>\n",
       "\t<tr><td> 4       </td><td>0.5619048</td><td>0.4380952</td></tr>\n",
       "\t<tr><td> 5       </td><td>0.5904762</td><td>0.4095238</td></tr>\n",
       "\t<tr><td> 6       </td><td>0.6000000</td><td>0.4000000</td></tr>\n",
       "\t<tr><td> 7       </td><td>0.6190476</td><td>0.3809524</td></tr>\n",
       "\t<tr><td> 8       </td><td>0.6190476</td><td>0.3809524</td></tr>\n",
       "\t<tr><td> 9       </td><td>0.6095238</td><td>0.3904762</td></tr>\n",
       "\t<tr><td>10       </td><td>0.5714286</td><td>0.4285714</td></tr>\n",
       "\t<tr><td>11       </td><td>0.6190476</td><td>0.3809524</td></tr>\n",
       "\t<tr><td>12       </td><td>0.6190476</td><td>0.3809524</td></tr>\n",
       "\t<tr><td>13       </td><td>0.6380952</td><td>0.3619048</td></tr>\n",
       "\t<tr><td>14       </td><td>0.6190476</td><td>0.3809524</td></tr>\n",
       "\t<tr><td>15       </td><td>0.6761905</td><td>0.3238095</td></tr>\n",
       "\t<tr><td>16       </td><td>0.6571429</td><td>0.3428571</td></tr>\n",
       "\t<tr><td>17       </td><td>0.6857143</td><td>0.3142857</td></tr>\n",
       "\t<tr><td>18       </td><td>0.6666667</td><td>0.3333333</td></tr>\n",
       "\t<tr><td>19       </td><td>0.6761905</td><td>0.3238095</td></tr>\n",
       "\t<tr><td>20       </td><td>0.6857143</td><td>0.3142857</td></tr>\n",
       "</tbody>\n",
       "</table>\n"
      ],
      "text/latex": [
       "\\begin{tabular}{r|lll}\n",
       " k & Train(80): Accuracy & Train(80): Misclassification\\\\\n",
       "\\hline\n",
       "\t  1        & 0.5523810 & 0.4476190\\\\\n",
       "\t  2        & 0.5714286 & 0.4285714\\\\\n",
       "\t  3        & 0.5904762 & 0.4095238\\\\\n",
       "\t  4        & 0.5619048 & 0.4380952\\\\\n",
       "\t  5        & 0.5904762 & 0.4095238\\\\\n",
       "\t  6        & 0.6000000 & 0.4000000\\\\\n",
       "\t  7        & 0.6190476 & 0.3809524\\\\\n",
       "\t  8        & 0.6190476 & 0.3809524\\\\\n",
       "\t  9        & 0.6095238 & 0.3904762\\\\\n",
       "\t 10        & 0.5714286 & 0.4285714\\\\\n",
       "\t 11        & 0.6190476 & 0.3809524\\\\\n",
       "\t 12        & 0.6190476 & 0.3809524\\\\\n",
       "\t 13        & 0.6380952 & 0.3619048\\\\\n",
       "\t 14        & 0.6190476 & 0.3809524\\\\\n",
       "\t 15        & 0.6761905 & 0.3238095\\\\\n",
       "\t 16        & 0.6571429 & 0.3428571\\\\\n",
       "\t 17        & 0.6857143 & 0.3142857\\\\\n",
       "\t 18        & 0.6666667 & 0.3333333\\\\\n",
       "\t 19        & 0.6761905 & 0.3238095\\\\\n",
       "\t 20        & 0.6857143 & 0.3142857\\\\\n",
       "\\end{tabular}\n"
      ],
      "text/markdown": [
       "\n",
       "k | Train(80): Accuracy | Train(80): Misclassification | \n",
       "|---|---|---|---|---|---|---|---|---|---|---|---|---|---|---|---|---|---|---|---|\n",
       "|  1        | 0.5523810 | 0.4476190 | \n",
       "|  2        | 0.5714286 | 0.4285714 | \n",
       "|  3        | 0.5904762 | 0.4095238 | \n",
       "|  4        | 0.5619048 | 0.4380952 | \n",
       "|  5        | 0.5904762 | 0.4095238 | \n",
       "|  6        | 0.6000000 | 0.4000000 | \n",
       "|  7        | 0.6190476 | 0.3809524 | \n",
       "|  8        | 0.6190476 | 0.3809524 | \n",
       "|  9        | 0.6095238 | 0.3904762 | \n",
       "| 10        | 0.5714286 | 0.4285714 | \n",
       "| 11        | 0.6190476 | 0.3809524 | \n",
       "| 12        | 0.6190476 | 0.3809524 | \n",
       "| 13        | 0.6380952 | 0.3619048 | \n",
       "| 14        | 0.6190476 | 0.3809524 | \n",
       "| 15        | 0.6761905 | 0.3238095 | \n",
       "| 16        | 0.6571429 | 0.3428571 | \n",
       "| 17        | 0.6857143 | 0.3142857 | \n",
       "| 18        | 0.6666667 | 0.3333333 | \n",
       "| 19        | 0.6761905 | 0.3238095 | \n",
       "| 20        | 0.6857143 | 0.3142857 | \n",
       "\n",
       "\n"
      ],
      "text/plain": [
       "   k  Train(80): Accuracy Train(80): Misclassification\n",
       "1   1 0.5523810           0.4476190                   \n",
       "2   2 0.5714286           0.4285714                   \n",
       "3   3 0.5904762           0.4095238                   \n",
       "4   4 0.5619048           0.4380952                   \n",
       "5   5 0.5904762           0.4095238                   \n",
       "6   6 0.6000000           0.4000000                   \n",
       "7   7 0.6190476           0.3809524                   \n",
       "8   8 0.6190476           0.3809524                   \n",
       "9   9 0.6095238           0.3904762                   \n",
       "10 10 0.5714286           0.4285714                   \n",
       "11 11 0.6190476           0.3809524                   \n",
       "12 12 0.6190476           0.3809524                   \n",
       "13 13 0.6380952           0.3619048                   \n",
       "14 14 0.6190476           0.3809524                   \n",
       "15 15 0.6761905           0.3238095                   \n",
       "16 16 0.6571429           0.3428571                   \n",
       "17 17 0.6857143           0.3142857                   \n",
       "18 18 0.6666667           0.3333333                   \n",
       "19 19 0.6761905           0.3238095                   \n",
       "20 20 0.6857143           0.3142857                   "
      ]
     },
     "metadata": {},
     "output_type": "display_data"
    }
   ],
   "source": [
    "result2 <- as.data.frame(mapply(cbind, list(k, accuracy, misclassification)))\n",
    "names(result2) <- c(\"k\", \"Train(80): Accuracy\", \"Train(80): Misclassification\")\n",
    "result2"
   ]
  },
  {
   "cell_type": "code",
   "execution_count": 32,
   "metadata": {
    "collapsed": false
   },
   "outputs": [
    {
     "data": {
      "text/html": [
       "0.304761904761905"
      ],
      "text/latex": [
       "0.304761904761905"
      ],
      "text/markdown": [
       "0.304761904761905"
      ],
      "text/plain": [
       "[1] 0.3047619"
      ]
     },
     "metadata": {},
     "output_type": "display_data"
    }
   ],
   "source": [
    "min(result2$\"Train(80): Misclassification\")"
   ]
  },
  {
   "cell_type": "markdown",
   "metadata": {},
   "source": [
    "### Performing the model for Training Set = 70% and Test Set = 30%"
   ]
  },
  {
   "cell_type": "code",
   "execution_count": 33,
   "metadata": {
    "collapsed": true
   },
   "outputs": [],
   "source": [
    "#Sampling and dividing the data set into sets of 20% for testing and 80% for training. \n",
    "\n",
    "n.points <- nrow(df_n)\n",
    "set.seed(100)\n",
    "sampling.rate <- 0.8"
   ]
  },
  {
   "cell_type": "code",
   "execution_count": 34,
   "metadata": {
    "collapsed": true
   },
   "outputs": [],
   "source": [
    "# We need the number of points in the test set to calculate the misclassification rate\n",
    "\n",
    "num.test.set.labels <- n.points * (1 - sampling.rate)"
   ]
  },
  {
   "cell_type": "markdown",
   "metadata": {},
   "source": [
    "#### Separating the Training Set and True labels for it."
   ]
  },
  {
   "cell_type": "code",
   "execution_count": 35,
   "metadata": {
    "collapsed": true
   },
   "outputs": [],
   "source": [
    "# Randomly sample which rows will go in the training set\n",
    "\n",
    "training <- sample(1:n.points, sampling.rate * n.points, replace=FALSE)"
   ]
  },
  {
   "cell_type": "code",
   "execution_count": 36,
   "metadata": {
    "collapsed": true
   },
   "outputs": [],
   "source": [
    "# Define the training set to be those rows\n",
    "\n",
    "df_train3 <- subset(df_n[training, ], select = c(Age:Purpose))\n",
    "df_train3_target <- new_df$Credit.Risks[training]"
   ]
  },
  {
   "cell_type": "markdown",
   "metadata": {},
   "source": [
    "#### Separating the Test Set and True labels for it."
   ]
  },
  {
   "cell_type": "code",
   "execution_count": 37,
   "metadata": {
    "collapsed": true
   },
   "outputs": [],
   "source": [
    "# Selecting the remaining rows for test set\n",
    "\n",
    "testing <- setdiff(1:n.points, training)"
   ]
  },
  {
   "cell_type": "code",
   "execution_count": 38,
   "metadata": {
    "collapsed": true
   },
   "outputs": [],
   "source": [
    "# define the test set to be the other rows\n",
    "\n",
    "df_test3 <- subset(df_n[testing, ], select = c(Age:Purpose))\n",
    "df_test3_target <- new_df$Credit.Risks[testing]"
   ]
  },
  {
   "cell_type": "markdown",
   "metadata": {},
   "source": [
    "#### Applying kNN on the training and test sets to get the accuracy and misclassification"
   ]
  },
  {
   "cell_type": "code",
   "execution_count": 39,
   "metadata": {
    "collapsed": false
   },
   "outputs": [],
   "source": [
    "require(class)"
   ]
  },
  {
   "cell_type": "code",
   "execution_count": 40,
   "metadata": {
    "collapsed": false
   },
   "outputs": [],
   "source": [
    "accuracy <- rep(0, 20)\n",
    "misclassification <- rep(0, 20)\n",
    "k <- 1:20\n",
    "\n",
    "for(x in k){\n",
    "    prediction <- knn(train = df_train3, test = df_test3, cl = df_train3_target, k = x)\n",
    "    accuracy[x] <- mean(df_test3_target == prediction)\n",
    "    misclassification[x] <- 1- accuracy[x]\n",
    "}"
   ]
  },
  {
   "cell_type": "code",
   "execution_count": 41,
   "metadata": {
    "collapsed": false,
    "scrolled": true
   },
   "outputs": [
    {
     "data": {
      "text/html": [
       "<table>\n",
       "<thead><tr><th scope=col>k</th><th scope=col>Train(70): Accuracy</th><th scope=col>Train(70): Misclassification</th></tr></thead>\n",
       "<tbody>\n",
       "\t<tr><td> 1       </td><td>0.5523810</td><td>0.4476190</td></tr>\n",
       "\t<tr><td> 2       </td><td>0.5047619</td><td>0.4952381</td></tr>\n",
       "\t<tr><td> 3       </td><td>0.5904762</td><td>0.4095238</td></tr>\n",
       "\t<tr><td> 4       </td><td>0.5619048</td><td>0.4380952</td></tr>\n",
       "\t<tr><td> 5       </td><td>0.5904762</td><td>0.4095238</td></tr>\n",
       "\t<tr><td> 6       </td><td>0.6190476</td><td>0.3809524</td></tr>\n",
       "\t<tr><td> 7       </td><td>0.6190476</td><td>0.3809524</td></tr>\n",
       "\t<tr><td> 8       </td><td>0.6285714</td><td>0.3714286</td></tr>\n",
       "\t<tr><td> 9       </td><td>0.6095238</td><td>0.3904762</td></tr>\n",
       "\t<tr><td>10       </td><td>0.6190476</td><td>0.3809524</td></tr>\n",
       "\t<tr><td>11       </td><td>0.6190476</td><td>0.3809524</td></tr>\n",
       "\t<tr><td>12       </td><td>0.6190476</td><td>0.3809524</td></tr>\n",
       "\t<tr><td>13       </td><td>0.6380952</td><td>0.3619048</td></tr>\n",
       "\t<tr><td>14       </td><td>0.6285714</td><td>0.3714286</td></tr>\n",
       "\t<tr><td>15       </td><td>0.6761905</td><td>0.3238095</td></tr>\n",
       "\t<tr><td>16       </td><td>0.6666667</td><td>0.3333333</td></tr>\n",
       "\t<tr><td>17       </td><td>0.6857143</td><td>0.3142857</td></tr>\n",
       "\t<tr><td>18       </td><td>0.6476190</td><td>0.3523810</td></tr>\n",
       "\t<tr><td>19       </td><td>0.6761905</td><td>0.3238095</td></tr>\n",
       "\t<tr><td>20       </td><td>0.6952381</td><td>0.3047619</td></tr>\n",
       "</tbody>\n",
       "</table>\n"
      ],
      "text/latex": [
       "\\begin{tabular}{r|lll}\n",
       " k & Train(70): Accuracy & Train(70): Misclassification\\\\\n",
       "\\hline\n",
       "\t  1        & 0.5523810 & 0.4476190\\\\\n",
       "\t  2        & 0.5047619 & 0.4952381\\\\\n",
       "\t  3        & 0.5904762 & 0.4095238\\\\\n",
       "\t  4        & 0.5619048 & 0.4380952\\\\\n",
       "\t  5        & 0.5904762 & 0.4095238\\\\\n",
       "\t  6        & 0.6190476 & 0.3809524\\\\\n",
       "\t  7        & 0.6190476 & 0.3809524\\\\\n",
       "\t  8        & 0.6285714 & 0.3714286\\\\\n",
       "\t  9        & 0.6095238 & 0.3904762\\\\\n",
       "\t 10        & 0.6190476 & 0.3809524\\\\\n",
       "\t 11        & 0.6190476 & 0.3809524\\\\\n",
       "\t 12        & 0.6190476 & 0.3809524\\\\\n",
       "\t 13        & 0.6380952 & 0.3619048\\\\\n",
       "\t 14        & 0.6285714 & 0.3714286\\\\\n",
       "\t 15        & 0.6761905 & 0.3238095\\\\\n",
       "\t 16        & 0.6666667 & 0.3333333\\\\\n",
       "\t 17        & 0.6857143 & 0.3142857\\\\\n",
       "\t 18        & 0.6476190 & 0.3523810\\\\\n",
       "\t 19        & 0.6761905 & 0.3238095\\\\\n",
       "\t 20        & 0.6952381 & 0.3047619\\\\\n",
       "\\end{tabular}\n"
      ],
      "text/markdown": [
       "\n",
       "k | Train(70): Accuracy | Train(70): Misclassification | \n",
       "|---|---|---|---|---|---|---|---|---|---|---|---|---|---|---|---|---|---|---|---|\n",
       "|  1        | 0.5523810 | 0.4476190 | \n",
       "|  2        | 0.5047619 | 0.4952381 | \n",
       "|  3        | 0.5904762 | 0.4095238 | \n",
       "|  4        | 0.5619048 | 0.4380952 | \n",
       "|  5        | 0.5904762 | 0.4095238 | \n",
       "|  6        | 0.6190476 | 0.3809524 | \n",
       "|  7        | 0.6190476 | 0.3809524 | \n",
       "|  8        | 0.6285714 | 0.3714286 | \n",
       "|  9        | 0.6095238 | 0.3904762 | \n",
       "| 10        | 0.6190476 | 0.3809524 | \n",
       "| 11        | 0.6190476 | 0.3809524 | \n",
       "| 12        | 0.6190476 | 0.3809524 | \n",
       "| 13        | 0.6380952 | 0.3619048 | \n",
       "| 14        | 0.6285714 | 0.3714286 | \n",
       "| 15        | 0.6761905 | 0.3238095 | \n",
       "| 16        | 0.6666667 | 0.3333333 | \n",
       "| 17        | 0.6857143 | 0.3142857 | \n",
       "| 18        | 0.6476190 | 0.3523810 | \n",
       "| 19        | 0.6761905 | 0.3238095 | \n",
       "| 20        | 0.6952381 | 0.3047619 | \n",
       "\n",
       "\n"
      ],
      "text/plain": [
       "   k  Train(70): Accuracy Train(70): Misclassification\n",
       "1   1 0.5523810           0.4476190                   \n",
       "2   2 0.5047619           0.4952381                   \n",
       "3   3 0.5904762           0.4095238                   \n",
       "4   4 0.5619048           0.4380952                   \n",
       "5   5 0.5904762           0.4095238                   \n",
       "6   6 0.6190476           0.3809524                   \n",
       "7   7 0.6190476           0.3809524                   \n",
       "8   8 0.6285714           0.3714286                   \n",
       "9   9 0.6095238           0.3904762                   \n",
       "10 10 0.6190476           0.3809524                   \n",
       "11 11 0.6190476           0.3809524                   \n",
       "12 12 0.6190476           0.3809524                   \n",
       "13 13 0.6380952           0.3619048                   \n",
       "14 14 0.6285714           0.3714286                   \n",
       "15 15 0.6761905           0.3238095                   \n",
       "16 16 0.6666667           0.3333333                   \n",
       "17 17 0.6857143           0.3142857                   \n",
       "18 18 0.6476190           0.3523810                   \n",
       "19 19 0.6761905           0.3238095                   \n",
       "20 20 0.6952381           0.3047619                   "
      ]
     },
     "metadata": {},
     "output_type": "display_data"
    }
   ],
   "source": [
    "result3 <- as.data.frame(mapply(cbind, list(k, accuracy, misclassification)))\n",
    "names(result3) <- c(\"k\", \"Train(70): Accuracy\", \"Train(70): Misclassification\")\n",
    "result3"
   ]
  },
  {
   "cell_type": "code",
   "execution_count": 42,
   "metadata": {
    "collapsed": false
   },
   "outputs": [
    {
     "data": {
      "text/html": [
       "0.304761904761905"
      ],
      "text/latex": [
       "0.304761904761905"
      ],
      "text/markdown": [
       "0.304761904761905"
      ],
      "text/plain": [
       "[1] 0.3047619"
      ]
     },
     "metadata": {},
     "output_type": "display_data"
    }
   ],
   "source": [
    "min(result3$\"Train(70): Misclassification\")"
   ]
  },
  {
   "cell_type": "markdown",
   "metadata": {},
   "source": [
    "### Performing the model for Training Set = 60% and Test Set = 40%"
   ]
  },
  {
   "cell_type": "code",
   "execution_count": 43,
   "metadata": {
    "collapsed": true
   },
   "outputs": [],
   "source": [
    "#Sampling and dividing the data set into sets of 40% for testing and 60% for training. \n",
    "\n",
    "n.points <- nrow(df_n)\n",
    "set.seed(100)\n",
    "sampling.rate <- 0.6"
   ]
  },
  {
   "cell_type": "code",
   "execution_count": 44,
   "metadata": {
    "collapsed": true
   },
   "outputs": [],
   "source": [
    "# We need the number of points in the test set to calculate the misclassification rate\n",
    "\n",
    "num.test.set.labels <- n.points * (1 - sampling.rate)"
   ]
  },
  {
   "cell_type": "markdown",
   "metadata": {},
   "source": [
    "#### Separating the Training Set and True labels for it."
   ]
  },
  {
   "cell_type": "code",
   "execution_count": 45,
   "metadata": {
    "collapsed": true
   },
   "outputs": [],
   "source": [
    "# Randomly sample which rows will go in the training set\n",
    "\n",
    "training <- sample(1:n.points, sampling.rate * n.points, replace=FALSE)"
   ]
  },
  {
   "cell_type": "code",
   "execution_count": 46,
   "metadata": {
    "collapsed": true
   },
   "outputs": [],
   "source": [
    "# Define the training set to be those rows\n",
    "\n",
    "df_train4 <- subset(df_n[training, ], select = c(Age:Purpose))\n",
    "df_train4_target <- new_df$Credit.Risks[training]"
   ]
  },
  {
   "cell_type": "markdown",
   "metadata": {},
   "source": [
    "#### Separating the Test Set and True labels for it."
   ]
  },
  {
   "cell_type": "code",
   "execution_count": 47,
   "metadata": {
    "collapsed": true
   },
   "outputs": [],
   "source": [
    "# Selecting the remaining rows for test set\n",
    "\n",
    "testing <- setdiff(1:n.points, training)"
   ]
  },
  {
   "cell_type": "code",
   "execution_count": 48,
   "metadata": {
    "collapsed": true
   },
   "outputs": [],
   "source": [
    "# define the test set to be the other rows\n",
    "\n",
    "df_test4 <- subset(df_n[testing, ], select = c(Age:Purpose))\n",
    "df_test4_target <- new_df$Credit.Risks[testing]"
   ]
  },
  {
   "cell_type": "markdown",
   "metadata": {},
   "source": [
    "#### Applying kNN on the training and test sets to get the accuracy and misclassification"
   ]
  },
  {
   "cell_type": "code",
   "execution_count": 49,
   "metadata": {
    "collapsed": false
   },
   "outputs": [],
   "source": [
    "require(class)"
   ]
  },
  {
   "cell_type": "code",
   "execution_count": 50,
   "metadata": {
    "collapsed": false
   },
   "outputs": [],
   "source": [
    "accuracy <- rep(0, 20)\n",
    "misclassification <- rep(0, 20)\n",
    "k <- 1:20\n",
    "\n",
    "for(x in k){\n",
    "    prediction <- knn(train = df_train4, test = df_test4, cl = df_train4_target, k = x)\n",
    "    accuracy[x] <- mean(df_test4_target == prediction)\n",
    "    misclassification[x] <- 1- accuracy[x]\n",
    "}"
   ]
  },
  {
   "cell_type": "code",
   "execution_count": 51,
   "metadata": {
    "collapsed": false,
    "scrolled": true
   },
   "outputs": [
    {
     "data": {
      "text/html": [
       "<table>\n",
       "<thead><tr><th scope=col>k</th><th scope=col>Train(60): Accuracy</th><th scope=col>Train(60): Misclassification</th></tr></thead>\n",
       "<tbody>\n",
       "\t<tr><td> 1       </td><td>0.5980861</td><td>0.4019139</td></tr>\n",
       "\t<tr><td> 2       </td><td>0.6363636</td><td>0.3636364</td></tr>\n",
       "\t<tr><td> 3       </td><td>0.6124402</td><td>0.3875598</td></tr>\n",
       "\t<tr><td> 4       </td><td>0.5885167</td><td>0.4114833</td></tr>\n",
       "\t<tr><td> 5       </td><td>0.6267943</td><td>0.3732057</td></tr>\n",
       "\t<tr><td> 6       </td><td>0.5980861</td><td>0.4019139</td></tr>\n",
       "\t<tr><td> 7       </td><td>0.5933014</td><td>0.4066986</td></tr>\n",
       "\t<tr><td> 8       </td><td>0.5885167</td><td>0.4114833</td></tr>\n",
       "\t<tr><td> 9       </td><td>0.6076555</td><td>0.3923445</td></tr>\n",
       "\t<tr><td>10       </td><td>0.6220096</td><td>0.3779904</td></tr>\n",
       "\t<tr><td>11       </td><td>0.6172249</td><td>0.3827751</td></tr>\n",
       "\t<tr><td>12       </td><td>0.6363636</td><td>0.3636364</td></tr>\n",
       "\t<tr><td>13       </td><td>0.6363636</td><td>0.3636364</td></tr>\n",
       "\t<tr><td>14       </td><td>0.6507177</td><td>0.3492823</td></tr>\n",
       "\t<tr><td>15       </td><td>0.6555024</td><td>0.3444976</td></tr>\n",
       "\t<tr><td>16       </td><td>0.6507177</td><td>0.3492823</td></tr>\n",
       "\t<tr><td>17       </td><td>0.6650718</td><td>0.3349282</td></tr>\n",
       "\t<tr><td>18       </td><td>0.6555024</td><td>0.3444976</td></tr>\n",
       "\t<tr><td>19       </td><td>0.6650718</td><td>0.3349282</td></tr>\n",
       "\t<tr><td>20       </td><td>0.6459330</td><td>0.3540670</td></tr>\n",
       "</tbody>\n",
       "</table>\n"
      ],
      "text/latex": [
       "\\begin{tabular}{r|lll}\n",
       " k & Train(60): Accuracy & Train(60): Misclassification\\\\\n",
       "\\hline\n",
       "\t  1        & 0.5980861 & 0.4019139\\\\\n",
       "\t  2        & 0.6363636 & 0.3636364\\\\\n",
       "\t  3        & 0.6124402 & 0.3875598\\\\\n",
       "\t  4        & 0.5885167 & 0.4114833\\\\\n",
       "\t  5        & 0.6267943 & 0.3732057\\\\\n",
       "\t  6        & 0.5980861 & 0.4019139\\\\\n",
       "\t  7        & 0.5933014 & 0.4066986\\\\\n",
       "\t  8        & 0.5885167 & 0.4114833\\\\\n",
       "\t  9        & 0.6076555 & 0.3923445\\\\\n",
       "\t 10        & 0.6220096 & 0.3779904\\\\\n",
       "\t 11        & 0.6172249 & 0.3827751\\\\\n",
       "\t 12        & 0.6363636 & 0.3636364\\\\\n",
       "\t 13        & 0.6363636 & 0.3636364\\\\\n",
       "\t 14        & 0.6507177 & 0.3492823\\\\\n",
       "\t 15        & 0.6555024 & 0.3444976\\\\\n",
       "\t 16        & 0.6507177 & 0.3492823\\\\\n",
       "\t 17        & 0.6650718 & 0.3349282\\\\\n",
       "\t 18        & 0.6555024 & 0.3444976\\\\\n",
       "\t 19        & 0.6650718 & 0.3349282\\\\\n",
       "\t 20        & 0.6459330 & 0.3540670\\\\\n",
       "\\end{tabular}\n"
      ],
      "text/markdown": [
       "\n",
       "k | Train(60): Accuracy | Train(60): Misclassification | \n",
       "|---|---|---|---|---|---|---|---|---|---|---|---|---|---|---|---|---|---|---|---|\n",
       "|  1        | 0.5980861 | 0.4019139 | \n",
       "|  2        | 0.6363636 | 0.3636364 | \n",
       "|  3        | 0.6124402 | 0.3875598 | \n",
       "|  4        | 0.5885167 | 0.4114833 | \n",
       "|  5        | 0.6267943 | 0.3732057 | \n",
       "|  6        | 0.5980861 | 0.4019139 | \n",
       "|  7        | 0.5933014 | 0.4066986 | \n",
       "|  8        | 0.5885167 | 0.4114833 | \n",
       "|  9        | 0.6076555 | 0.3923445 | \n",
       "| 10        | 0.6220096 | 0.3779904 | \n",
       "| 11        | 0.6172249 | 0.3827751 | \n",
       "| 12        | 0.6363636 | 0.3636364 | \n",
       "| 13        | 0.6363636 | 0.3636364 | \n",
       "| 14        | 0.6507177 | 0.3492823 | \n",
       "| 15        | 0.6555024 | 0.3444976 | \n",
       "| 16        | 0.6507177 | 0.3492823 | \n",
       "| 17        | 0.6650718 | 0.3349282 | \n",
       "| 18        | 0.6555024 | 0.3444976 | \n",
       "| 19        | 0.6650718 | 0.3349282 | \n",
       "| 20        | 0.6459330 | 0.3540670 | \n",
       "\n",
       "\n"
      ],
      "text/plain": [
       "   k  Train(60): Accuracy Train(60): Misclassification\n",
       "1   1 0.5980861           0.4019139                   \n",
       "2   2 0.6363636           0.3636364                   \n",
       "3   3 0.6124402           0.3875598                   \n",
       "4   4 0.5885167           0.4114833                   \n",
       "5   5 0.6267943           0.3732057                   \n",
       "6   6 0.5980861           0.4019139                   \n",
       "7   7 0.5933014           0.4066986                   \n",
       "8   8 0.5885167           0.4114833                   \n",
       "9   9 0.6076555           0.3923445                   \n",
       "10 10 0.6220096           0.3779904                   \n",
       "11 11 0.6172249           0.3827751                   \n",
       "12 12 0.6363636           0.3636364                   \n",
       "13 13 0.6363636           0.3636364                   \n",
       "14 14 0.6507177           0.3492823                   \n",
       "15 15 0.6555024           0.3444976                   \n",
       "16 16 0.6507177           0.3492823                   \n",
       "17 17 0.6650718           0.3349282                   \n",
       "18 18 0.6555024           0.3444976                   \n",
       "19 19 0.6650718           0.3349282                   \n",
       "20 20 0.6459330           0.3540670                   "
      ]
     },
     "metadata": {},
     "output_type": "display_data"
    }
   ],
   "source": [
    "result4 <- as.data.frame(mapply(cbind, list(k, accuracy, misclassification)))\n",
    "names(result4) <- c(\"k\", \"Train(60): Accuracy\", \"Train(60): Misclassification\")\n",
    "result4"
   ]
  },
  {
   "cell_type": "code",
   "execution_count": 52,
   "metadata": {
    "collapsed": false
   },
   "outputs": [
    {
     "data": {
      "text/html": [
       "0.334928229665072"
      ],
      "text/latex": [
       "0.334928229665072"
      ],
      "text/markdown": [
       "0.334928229665072"
      ],
      "text/plain": [
       "[1] 0.3349282"
      ]
     },
     "metadata": {},
     "output_type": "display_data"
    }
   ],
   "source": [
    "min(result4$\"Train(60): Misclassification\")"
   ]
  },
  {
   "cell_type": "markdown",
   "metadata": {},
   "source": [
    "### Performing the model for Training Set = 50% and Test Set = 50%"
   ]
  },
  {
   "cell_type": "code",
   "execution_count": 53,
   "metadata": {
    "collapsed": true
   },
   "outputs": [],
   "source": [
    "#Sampling and dividing the data set into sets of 50% for testing and 50% for training. \n",
    "\n",
    "n.points <- nrow(df_n)\n",
    "set.seed(100)\n",
    "sampling.rate <- 0.5"
   ]
  },
  {
   "cell_type": "code",
   "execution_count": 54,
   "metadata": {
    "collapsed": true
   },
   "outputs": [],
   "source": [
    "# We need the number of points in the test set to calculate the misclassification rate\n",
    "\n",
    "num.test.set.labels <- n.points * (1 - sampling.rate)"
   ]
  },
  {
   "cell_type": "markdown",
   "metadata": {},
   "source": [
    "#### Separating the Training Set and True labels for it."
   ]
  },
  {
   "cell_type": "code",
   "execution_count": 55,
   "metadata": {
    "collapsed": true
   },
   "outputs": [],
   "source": [
    "# Randomly sample which rows will go in the training set\n",
    "\n",
    "training <- sample(1:n.points, sampling.rate * n.points, replace=FALSE)"
   ]
  },
  {
   "cell_type": "code",
   "execution_count": 56,
   "metadata": {
    "collapsed": true
   },
   "outputs": [],
   "source": [
    "# Define the training set to be those rows\n",
    "\n",
    "df_train5 <- subset(df_n[training, ], select = c(Age:Purpose))\n",
    "df_train5_target <- new_df$Credit.Risks[training]"
   ]
  },
  {
   "cell_type": "markdown",
   "metadata": {},
   "source": [
    "#### Separating the Test Set and True labels for it."
   ]
  },
  {
   "cell_type": "code",
   "execution_count": 57,
   "metadata": {
    "collapsed": true
   },
   "outputs": [],
   "source": [
    "# Selecting the remaining rows for test set\n",
    "\n",
    "testing <- setdiff(1:n.points, training)"
   ]
  },
  {
   "cell_type": "code",
   "execution_count": 58,
   "metadata": {
    "collapsed": true
   },
   "outputs": [],
   "source": [
    "# define the test set to be the other rows\n",
    "\n",
    "df_test5 <- subset(df_n[testing, ], select = c(Age:Purpose))\n",
    "df_test5_target <- new_df$Credit.Risks[testing]"
   ]
  },
  {
   "cell_type": "markdown",
   "metadata": {},
   "source": [
    "#### Applying kNN on the training and test sets to get the accuracy and misclassification"
   ]
  },
  {
   "cell_type": "code",
   "execution_count": 59,
   "metadata": {
    "collapsed": false
   },
   "outputs": [],
   "source": [
    "require(class)"
   ]
  },
  {
   "cell_type": "code",
   "execution_count": 60,
   "metadata": {
    "collapsed": false
   },
   "outputs": [],
   "source": [
    "accuracy <- rep(0, 20)\n",
    "misclassification <- rep(0, 20)\n",
    "k <- 1:20\n",
    "\n",
    "for(x in k){\n",
    "    prediction <- knn(train = df_train5, test = df_test5, cl = df_train5_target, k = x)\n",
    "    accuracy[x] <- mean(df_test5_target == prediction)\n",
    "    misclassification[x] <- 1- accuracy[x]\n",
    "}"
   ]
  },
  {
   "cell_type": "code",
   "execution_count": 61,
   "metadata": {
    "collapsed": false,
    "scrolled": true
   },
   "outputs": [
    {
     "data": {
      "text/html": [
       "<table>\n",
       "<thead><tr><th scope=col>k</th><th scope=col>Train(50): Accuracy</th><th scope=col>Train(50): Misclassification</th></tr></thead>\n",
       "<tbody>\n",
       "\t<tr><td> 1       </td><td>0.5938697</td><td>0.4061303</td></tr>\n",
       "\t<tr><td> 2       </td><td>0.5900383</td><td>0.4099617</td></tr>\n",
       "\t<tr><td> 3       </td><td>0.6015326</td><td>0.3984674</td></tr>\n",
       "\t<tr><td> 4       </td><td>0.5785441</td><td>0.4214559</td></tr>\n",
       "\t<tr><td> 5       </td><td>0.6091954</td><td>0.3908046</td></tr>\n",
       "\t<tr><td> 6       </td><td>0.6015326</td><td>0.3984674</td></tr>\n",
       "\t<tr><td> 7       </td><td>0.5747126</td><td>0.4252874</td></tr>\n",
       "\t<tr><td> 8       </td><td>0.6168582</td><td>0.3831418</td></tr>\n",
       "\t<tr><td> 9       </td><td>0.6168582</td><td>0.3831418</td></tr>\n",
       "\t<tr><td>10       </td><td>0.6091954</td><td>0.3908046</td></tr>\n",
       "\t<tr><td>11       </td><td>0.6321839</td><td>0.3678161</td></tr>\n",
       "\t<tr><td>12       </td><td>0.6321839</td><td>0.3678161</td></tr>\n",
       "\t<tr><td>13       </td><td>0.6398467</td><td>0.3601533</td></tr>\n",
       "\t<tr><td>14       </td><td>0.6360153</td><td>0.3639847</td></tr>\n",
       "\t<tr><td>15       </td><td>0.6628352</td><td>0.3371648</td></tr>\n",
       "\t<tr><td>16       </td><td>0.6513410</td><td>0.3486590</td></tr>\n",
       "\t<tr><td>17       </td><td>0.6475096</td><td>0.3524904</td></tr>\n",
       "\t<tr><td>18       </td><td>0.6398467</td><td>0.3601533</td></tr>\n",
       "\t<tr><td>19       </td><td>0.6475096</td><td>0.3524904</td></tr>\n",
       "\t<tr><td>20       </td><td>0.6436782</td><td>0.3563218</td></tr>\n",
       "</tbody>\n",
       "</table>\n"
      ],
      "text/latex": [
       "\\begin{tabular}{r|lll}\n",
       " k & Train(50): Accuracy & Train(50): Misclassification\\\\\n",
       "\\hline\n",
       "\t  1        & 0.5938697 & 0.4061303\\\\\n",
       "\t  2        & 0.5900383 & 0.4099617\\\\\n",
       "\t  3        & 0.6015326 & 0.3984674\\\\\n",
       "\t  4        & 0.5785441 & 0.4214559\\\\\n",
       "\t  5        & 0.6091954 & 0.3908046\\\\\n",
       "\t  6        & 0.6015326 & 0.3984674\\\\\n",
       "\t  7        & 0.5747126 & 0.4252874\\\\\n",
       "\t  8        & 0.6168582 & 0.3831418\\\\\n",
       "\t  9        & 0.6168582 & 0.3831418\\\\\n",
       "\t 10        & 0.6091954 & 0.3908046\\\\\n",
       "\t 11        & 0.6321839 & 0.3678161\\\\\n",
       "\t 12        & 0.6321839 & 0.3678161\\\\\n",
       "\t 13        & 0.6398467 & 0.3601533\\\\\n",
       "\t 14        & 0.6360153 & 0.3639847\\\\\n",
       "\t 15        & 0.6628352 & 0.3371648\\\\\n",
       "\t 16        & 0.6513410 & 0.3486590\\\\\n",
       "\t 17        & 0.6475096 & 0.3524904\\\\\n",
       "\t 18        & 0.6398467 & 0.3601533\\\\\n",
       "\t 19        & 0.6475096 & 0.3524904\\\\\n",
       "\t 20        & 0.6436782 & 0.3563218\\\\\n",
       "\\end{tabular}\n"
      ],
      "text/markdown": [
       "\n",
       "k | Train(50): Accuracy | Train(50): Misclassification | \n",
       "|---|---|---|---|---|---|---|---|---|---|---|---|---|---|---|---|---|---|---|---|\n",
       "|  1        | 0.5938697 | 0.4061303 | \n",
       "|  2        | 0.5900383 | 0.4099617 | \n",
       "|  3        | 0.6015326 | 0.3984674 | \n",
       "|  4        | 0.5785441 | 0.4214559 | \n",
       "|  5        | 0.6091954 | 0.3908046 | \n",
       "|  6        | 0.6015326 | 0.3984674 | \n",
       "|  7        | 0.5747126 | 0.4252874 | \n",
       "|  8        | 0.6168582 | 0.3831418 | \n",
       "|  9        | 0.6168582 | 0.3831418 | \n",
       "| 10        | 0.6091954 | 0.3908046 | \n",
       "| 11        | 0.6321839 | 0.3678161 | \n",
       "| 12        | 0.6321839 | 0.3678161 | \n",
       "| 13        | 0.6398467 | 0.3601533 | \n",
       "| 14        | 0.6360153 | 0.3639847 | \n",
       "| 15        | 0.6628352 | 0.3371648 | \n",
       "| 16        | 0.6513410 | 0.3486590 | \n",
       "| 17        | 0.6475096 | 0.3524904 | \n",
       "| 18        | 0.6398467 | 0.3601533 | \n",
       "| 19        | 0.6475096 | 0.3524904 | \n",
       "| 20        | 0.6436782 | 0.3563218 | \n",
       "\n",
       "\n"
      ],
      "text/plain": [
       "   k  Train(50): Accuracy Train(50): Misclassification\n",
       "1   1 0.5938697           0.4061303                   \n",
       "2   2 0.5900383           0.4099617                   \n",
       "3   3 0.6015326           0.3984674                   \n",
       "4   4 0.5785441           0.4214559                   \n",
       "5   5 0.6091954           0.3908046                   \n",
       "6   6 0.6015326           0.3984674                   \n",
       "7   7 0.5747126           0.4252874                   \n",
       "8   8 0.6168582           0.3831418                   \n",
       "9   9 0.6168582           0.3831418                   \n",
       "10 10 0.6091954           0.3908046                   \n",
       "11 11 0.6321839           0.3678161                   \n",
       "12 12 0.6321839           0.3678161                   \n",
       "13 13 0.6398467           0.3601533                   \n",
       "14 14 0.6360153           0.3639847                   \n",
       "15 15 0.6628352           0.3371648                   \n",
       "16 16 0.6513410           0.3486590                   \n",
       "17 17 0.6475096           0.3524904                   \n",
       "18 18 0.6398467           0.3601533                   \n",
       "19 19 0.6475096           0.3524904                   \n",
       "20 20 0.6436782           0.3563218                   "
      ]
     },
     "metadata": {},
     "output_type": "display_data"
    }
   ],
   "source": [
    "result5 <- as.data.frame(mapply(cbind, list(k, accuracy, misclassification)))\n",
    "names(result5) <- c(\"k\", \"Train(50): Accuracy\", \"Train(50): Misclassification\")\n",
    "result5"
   ]
  },
  {
   "cell_type": "code",
   "execution_count": 62,
   "metadata": {
    "collapsed": false
   },
   "outputs": [
    {
     "data": {
      "text/html": [
       "0.337164750957854"
      ],
      "text/latex": [
       "0.337164750957854"
      ],
      "text/markdown": [
       "0.337164750957854"
      ],
      "text/plain": [
       "[1] 0.3371648"
      ]
     },
     "metadata": {},
     "output_type": "display_data"
    }
   ],
   "source": [
    "min(result5$\"Train(50): Misclassification\")"
   ]
  },
  {
   "cell_type": "markdown",
   "metadata": {},
   "source": [
    "### Merging all the result sets"
   ]
  },
  {
   "cell_type": "code",
   "execution_count": 63,
   "metadata": {
    "collapsed": false
   },
   "outputs": [],
   "source": [
    "results <- merge(result1, result2, by = \"k\")\n",
    "results <- merge(results, result3, by = \"k\")\n",
    "results <- merge(results, result4, by = \"k\")\n",
    "results <- merge(results, result5, by = \"k\")"
   ]
  },
  {
   "cell_type": "code",
   "execution_count": 64,
   "metadata": {
    "collapsed": false,
    "scrolled": true
   },
   "outputs": [
    {
     "data": {
      "text/html": [
       "<table>\n",
       "<thead><tr><th scope=col>k</th><th scope=col>Train(90): Accuracy</th><th scope=col>Train(90): Misclassification</th><th scope=col>Train(80): Accuracy</th><th scope=col>Train(80): Misclassification</th><th scope=col>Train(70): Accuracy</th><th scope=col>Train(70): Misclassification</th><th scope=col>Train(60): Accuracy</th><th scope=col>Train(60): Misclassification</th><th scope=col>Train(50): Accuracy</th><th scope=col>Train(50): Misclassification</th></tr></thead>\n",
       "<tbody>\n",
       "\t<tr><td> 1       </td><td>0.4905660</td><td>0.5094340</td><td>0.5523810</td><td>0.4476190</td><td>0.5523810</td><td>0.4476190</td><td>0.5980861</td><td>0.4019139</td><td>0.5938697</td><td>0.4061303</td></tr>\n",
       "\t<tr><td> 2       </td><td>0.5283019</td><td>0.4716981</td><td>0.5047619</td><td>0.4952381</td><td>0.5047619</td><td>0.4952381</td><td>0.6363636</td><td>0.3636364</td><td>0.5900383</td><td>0.4099617</td></tr>\n",
       "\t<tr><td> 3       </td><td>0.5849057</td><td>0.4150943</td><td>0.5904762</td><td>0.4095238</td><td>0.5904762</td><td>0.4095238</td><td>0.6124402</td><td>0.3875598</td><td>0.6015326</td><td>0.3984674</td></tr>\n",
       "\t<tr><td> 4       </td><td>0.5283019</td><td>0.4716981</td><td>0.5619048</td><td>0.4380952</td><td>0.5619048</td><td>0.4380952</td><td>0.5885167</td><td>0.4114833</td><td>0.5785441</td><td>0.4214559</td></tr>\n",
       "\t<tr><td> 5       </td><td>0.5094340</td><td>0.4905660</td><td>0.5904762</td><td>0.4095238</td><td>0.5904762</td><td>0.4095238</td><td>0.6267943</td><td>0.3732057</td><td>0.6091954</td><td>0.3908046</td></tr>\n",
       "\t<tr><td> 6       </td><td>0.5660377</td><td>0.4339623</td><td>0.6190476</td><td>0.3809524</td><td>0.6190476</td><td>0.3809524</td><td>0.5980861</td><td>0.4019139</td><td>0.6015326</td><td>0.3984674</td></tr>\n",
       "\t<tr><td> 7       </td><td>0.4905660</td><td>0.5094340</td><td>0.6190476</td><td>0.3809524</td><td>0.6190476</td><td>0.3809524</td><td>0.5933014</td><td>0.4066986</td><td>0.5747126</td><td>0.4252874</td></tr>\n",
       "\t<tr><td> 8       </td><td>0.5283019</td><td>0.4716981</td><td>0.6285714</td><td>0.3714286</td><td>0.6285714</td><td>0.3714286</td><td>0.5885167</td><td>0.4114833</td><td>0.6168582</td><td>0.3831418</td></tr>\n",
       "\t<tr><td> 9       </td><td>0.5283019</td><td>0.4716981</td><td>0.6095238</td><td>0.3904762</td><td>0.6095238</td><td>0.3904762</td><td>0.6076555</td><td>0.3923445</td><td>0.6168582</td><td>0.3831418</td></tr>\n",
       "\t<tr><td>10       </td><td>0.5660377</td><td>0.4339623</td><td>0.6190476</td><td>0.3809524</td><td>0.6190476</td><td>0.3809524</td><td>0.6220096</td><td>0.3779904</td><td>0.6091954</td><td>0.3908046</td></tr>\n",
       "\t<tr><td>11       </td><td>0.5660377</td><td>0.4339623</td><td>0.6190476</td><td>0.3809524</td><td>0.6190476</td><td>0.3809524</td><td>0.6172249</td><td>0.3827751</td><td>0.6321839</td><td>0.3678161</td></tr>\n",
       "\t<tr><td>12       </td><td>0.5094340</td><td>0.4905660</td><td>0.6190476</td><td>0.3809524</td><td>0.6190476</td><td>0.3809524</td><td>0.6363636</td><td>0.3636364</td><td>0.6321839</td><td>0.3678161</td></tr>\n",
       "\t<tr><td>13       </td><td>0.5660377</td><td>0.4339623</td><td>0.6380952</td><td>0.3619048</td><td>0.6380952</td><td>0.3619048</td><td>0.6363636</td><td>0.3636364</td><td>0.6398467</td><td>0.3601533</td></tr>\n",
       "\t<tr><td>14       </td><td>0.5660377</td><td>0.4339623</td><td>0.6285714</td><td>0.3714286</td><td>0.6285714</td><td>0.3714286</td><td>0.6507177</td><td>0.3492823</td><td>0.6360153</td><td>0.3639847</td></tr>\n",
       "\t<tr><td>15       </td><td>0.6037736</td><td>0.3962264</td><td>0.6761905</td><td>0.3238095</td><td>0.6761905</td><td>0.3238095</td><td>0.6555024</td><td>0.3444976</td><td>0.6628352</td><td>0.3371648</td></tr>\n",
       "\t<tr><td>16       </td><td>0.6226415</td><td>0.3773585</td><td>0.6666667</td><td>0.3333333</td><td>0.6666667</td><td>0.3333333</td><td>0.6507177</td><td>0.3492823</td><td>0.6513410</td><td>0.3486590</td></tr>\n",
       "\t<tr><td>17       </td><td>0.6226415</td><td>0.3773585</td><td>0.6857143</td><td>0.3142857</td><td>0.6857143</td><td>0.3142857</td><td>0.6650718</td><td>0.3349282</td><td>0.6475096</td><td>0.3524904</td></tr>\n",
       "\t<tr><td>18       </td><td>0.6415094</td><td>0.3584906</td><td>0.6476190</td><td>0.3523810</td><td>0.6476190</td><td>0.3523810</td><td>0.6555024</td><td>0.3444976</td><td>0.6398467</td><td>0.3601533</td></tr>\n",
       "\t<tr><td>19       </td><td>0.6603774</td><td>0.3396226</td><td>0.6761905</td><td>0.3238095</td><td>0.6761905</td><td>0.3238095</td><td>0.6650718</td><td>0.3349282</td><td>0.6475096</td><td>0.3524904</td></tr>\n",
       "\t<tr><td>20       </td><td>0.6415094</td><td>0.3584906</td><td>0.6952381</td><td>0.3047619</td><td>0.6952381</td><td>0.3047619</td><td>0.6459330</td><td>0.3540670</td><td>0.6436782</td><td>0.3563218</td></tr>\n",
       "</tbody>\n",
       "</table>\n"
      ],
      "text/latex": [
       "\\begin{tabular}{r|lllllllllll}\n",
       " k & Train(90): Accuracy & Train(90): Misclassification & Train(80): Accuracy & Train(80): Misclassification & Train(70): Accuracy & Train(70): Misclassification & Train(60): Accuracy & Train(60): Misclassification & Train(50): Accuracy & Train(50): Misclassification\\\\\n",
       "\\hline\n",
       "\t  1        & 0.4905660 & 0.5094340 & 0.5523810 & 0.4476190 & 0.5523810 & 0.4476190 & 0.5980861 & 0.4019139 & 0.5938697 & 0.4061303\\\\\n",
       "\t  2        & 0.5283019 & 0.4716981 & 0.5047619 & 0.4952381 & 0.5047619 & 0.4952381 & 0.6363636 & 0.3636364 & 0.5900383 & 0.4099617\\\\\n",
       "\t  3        & 0.5849057 & 0.4150943 & 0.5904762 & 0.4095238 & 0.5904762 & 0.4095238 & 0.6124402 & 0.3875598 & 0.6015326 & 0.3984674\\\\\n",
       "\t  4        & 0.5283019 & 0.4716981 & 0.5619048 & 0.4380952 & 0.5619048 & 0.4380952 & 0.5885167 & 0.4114833 & 0.5785441 & 0.4214559\\\\\n",
       "\t  5        & 0.5094340 & 0.4905660 & 0.5904762 & 0.4095238 & 0.5904762 & 0.4095238 & 0.6267943 & 0.3732057 & 0.6091954 & 0.3908046\\\\\n",
       "\t  6        & 0.5660377 & 0.4339623 & 0.6190476 & 0.3809524 & 0.6190476 & 0.3809524 & 0.5980861 & 0.4019139 & 0.6015326 & 0.3984674\\\\\n",
       "\t  7        & 0.4905660 & 0.5094340 & 0.6190476 & 0.3809524 & 0.6190476 & 0.3809524 & 0.5933014 & 0.4066986 & 0.5747126 & 0.4252874\\\\\n",
       "\t  8        & 0.5283019 & 0.4716981 & 0.6285714 & 0.3714286 & 0.6285714 & 0.3714286 & 0.5885167 & 0.4114833 & 0.6168582 & 0.3831418\\\\\n",
       "\t  9        & 0.5283019 & 0.4716981 & 0.6095238 & 0.3904762 & 0.6095238 & 0.3904762 & 0.6076555 & 0.3923445 & 0.6168582 & 0.3831418\\\\\n",
       "\t 10        & 0.5660377 & 0.4339623 & 0.6190476 & 0.3809524 & 0.6190476 & 0.3809524 & 0.6220096 & 0.3779904 & 0.6091954 & 0.3908046\\\\\n",
       "\t 11        & 0.5660377 & 0.4339623 & 0.6190476 & 0.3809524 & 0.6190476 & 0.3809524 & 0.6172249 & 0.3827751 & 0.6321839 & 0.3678161\\\\\n",
       "\t 12        & 0.5094340 & 0.4905660 & 0.6190476 & 0.3809524 & 0.6190476 & 0.3809524 & 0.6363636 & 0.3636364 & 0.6321839 & 0.3678161\\\\\n",
       "\t 13        & 0.5660377 & 0.4339623 & 0.6380952 & 0.3619048 & 0.6380952 & 0.3619048 & 0.6363636 & 0.3636364 & 0.6398467 & 0.3601533\\\\\n",
       "\t 14        & 0.5660377 & 0.4339623 & 0.6285714 & 0.3714286 & 0.6285714 & 0.3714286 & 0.6507177 & 0.3492823 & 0.6360153 & 0.3639847\\\\\n",
       "\t 15        & 0.6037736 & 0.3962264 & 0.6761905 & 0.3238095 & 0.6761905 & 0.3238095 & 0.6555024 & 0.3444976 & 0.6628352 & 0.3371648\\\\\n",
       "\t 16        & 0.6226415 & 0.3773585 & 0.6666667 & 0.3333333 & 0.6666667 & 0.3333333 & 0.6507177 & 0.3492823 & 0.6513410 & 0.3486590\\\\\n",
       "\t 17        & 0.6226415 & 0.3773585 & 0.6857143 & 0.3142857 & 0.6857143 & 0.3142857 & 0.6650718 & 0.3349282 & 0.6475096 & 0.3524904\\\\\n",
       "\t 18        & 0.6415094 & 0.3584906 & 0.6476190 & 0.3523810 & 0.6476190 & 0.3523810 & 0.6555024 & 0.3444976 & 0.6398467 & 0.3601533\\\\\n",
       "\t 19        & 0.6603774 & 0.3396226 & 0.6761905 & 0.3238095 & 0.6761905 & 0.3238095 & 0.6650718 & 0.3349282 & 0.6475096 & 0.3524904\\\\\n",
       "\t 20        & 0.6415094 & 0.3584906 & 0.6952381 & 0.3047619 & 0.6952381 & 0.3047619 & 0.6459330 & 0.3540670 & 0.6436782 & 0.3563218\\\\\n",
       "\\end{tabular}\n"
      ],
      "text/markdown": [
       "\n",
       "k | Train(90): Accuracy | Train(90): Misclassification | Train(80): Accuracy | Train(80): Misclassification | Train(70): Accuracy | Train(70): Misclassification | Train(60): Accuracy | Train(60): Misclassification | Train(50): Accuracy | Train(50): Misclassification | \n",
       "|---|---|---|---|---|---|---|---|---|---|---|---|---|---|---|---|---|---|---|---|\n",
       "|  1        | 0.4905660 | 0.5094340 | 0.5523810 | 0.4476190 | 0.5523810 | 0.4476190 | 0.5980861 | 0.4019139 | 0.5938697 | 0.4061303 | \n",
       "|  2        | 0.5283019 | 0.4716981 | 0.5047619 | 0.4952381 | 0.5047619 | 0.4952381 | 0.6363636 | 0.3636364 | 0.5900383 | 0.4099617 | \n",
       "|  3        | 0.5849057 | 0.4150943 | 0.5904762 | 0.4095238 | 0.5904762 | 0.4095238 | 0.6124402 | 0.3875598 | 0.6015326 | 0.3984674 | \n",
       "|  4        | 0.5283019 | 0.4716981 | 0.5619048 | 0.4380952 | 0.5619048 | 0.4380952 | 0.5885167 | 0.4114833 | 0.5785441 | 0.4214559 | \n",
       "|  5        | 0.5094340 | 0.4905660 | 0.5904762 | 0.4095238 | 0.5904762 | 0.4095238 | 0.6267943 | 0.3732057 | 0.6091954 | 0.3908046 | \n",
       "|  6        | 0.5660377 | 0.4339623 | 0.6190476 | 0.3809524 | 0.6190476 | 0.3809524 | 0.5980861 | 0.4019139 | 0.6015326 | 0.3984674 | \n",
       "|  7        | 0.4905660 | 0.5094340 | 0.6190476 | 0.3809524 | 0.6190476 | 0.3809524 | 0.5933014 | 0.4066986 | 0.5747126 | 0.4252874 | \n",
       "|  8        | 0.5283019 | 0.4716981 | 0.6285714 | 0.3714286 | 0.6285714 | 0.3714286 | 0.5885167 | 0.4114833 | 0.6168582 | 0.3831418 | \n",
       "|  9        | 0.5283019 | 0.4716981 | 0.6095238 | 0.3904762 | 0.6095238 | 0.3904762 | 0.6076555 | 0.3923445 | 0.6168582 | 0.3831418 | \n",
       "| 10        | 0.5660377 | 0.4339623 | 0.6190476 | 0.3809524 | 0.6190476 | 0.3809524 | 0.6220096 | 0.3779904 | 0.6091954 | 0.3908046 | \n",
       "| 11        | 0.5660377 | 0.4339623 | 0.6190476 | 0.3809524 | 0.6190476 | 0.3809524 | 0.6172249 | 0.3827751 | 0.6321839 | 0.3678161 | \n",
       "| 12        | 0.5094340 | 0.4905660 | 0.6190476 | 0.3809524 | 0.6190476 | 0.3809524 | 0.6363636 | 0.3636364 | 0.6321839 | 0.3678161 | \n",
       "| 13        | 0.5660377 | 0.4339623 | 0.6380952 | 0.3619048 | 0.6380952 | 0.3619048 | 0.6363636 | 0.3636364 | 0.6398467 | 0.3601533 | \n",
       "| 14        | 0.5660377 | 0.4339623 | 0.6285714 | 0.3714286 | 0.6285714 | 0.3714286 | 0.6507177 | 0.3492823 | 0.6360153 | 0.3639847 | \n",
       "| 15        | 0.6037736 | 0.3962264 | 0.6761905 | 0.3238095 | 0.6761905 | 0.3238095 | 0.6555024 | 0.3444976 | 0.6628352 | 0.3371648 | \n",
       "| 16        | 0.6226415 | 0.3773585 | 0.6666667 | 0.3333333 | 0.6666667 | 0.3333333 | 0.6507177 | 0.3492823 | 0.6513410 | 0.3486590 | \n",
       "| 17        | 0.6226415 | 0.3773585 | 0.6857143 | 0.3142857 | 0.6857143 | 0.3142857 | 0.6650718 | 0.3349282 | 0.6475096 | 0.3524904 | \n",
       "| 18        | 0.6415094 | 0.3584906 | 0.6476190 | 0.3523810 | 0.6476190 | 0.3523810 | 0.6555024 | 0.3444976 | 0.6398467 | 0.3601533 | \n",
       "| 19        | 0.6603774 | 0.3396226 | 0.6761905 | 0.3238095 | 0.6761905 | 0.3238095 | 0.6650718 | 0.3349282 | 0.6475096 | 0.3524904 | \n",
       "| 20        | 0.6415094 | 0.3584906 | 0.6952381 | 0.3047619 | 0.6952381 | 0.3047619 | 0.6459330 | 0.3540670 | 0.6436782 | 0.3563218 | \n",
       "\n",
       "\n"
      ],
      "text/plain": [
       "   k  Train(90): Accuracy Train(90): Misclassification Train(80): Accuracy\n",
       "1   1 0.4905660           0.5094340                    0.5523810          \n",
       "2   2 0.5283019           0.4716981                    0.5047619          \n",
       "3   3 0.5849057           0.4150943                    0.5904762          \n",
       "4   4 0.5283019           0.4716981                    0.5619048          \n",
       "5   5 0.5094340           0.4905660                    0.5904762          \n",
       "6   6 0.5660377           0.4339623                    0.6190476          \n",
       "7   7 0.4905660           0.5094340                    0.6190476          \n",
       "8   8 0.5283019           0.4716981                    0.6285714          \n",
       "9   9 0.5283019           0.4716981                    0.6095238          \n",
       "10 10 0.5660377           0.4339623                    0.6190476          \n",
       "11 11 0.5660377           0.4339623                    0.6190476          \n",
       "12 12 0.5094340           0.4905660                    0.6190476          \n",
       "13 13 0.5660377           0.4339623                    0.6380952          \n",
       "14 14 0.5660377           0.4339623                    0.6285714          \n",
       "15 15 0.6037736           0.3962264                    0.6761905          \n",
       "16 16 0.6226415           0.3773585                    0.6666667          \n",
       "17 17 0.6226415           0.3773585                    0.6857143          \n",
       "18 18 0.6415094           0.3584906                    0.6476190          \n",
       "19 19 0.6603774           0.3396226                    0.6761905          \n",
       "20 20 0.6415094           0.3584906                    0.6952381          \n",
       "   Train(80): Misclassification Train(70): Accuracy\n",
       "1  0.4476190                    0.5523810          \n",
       "2  0.4952381                    0.5047619          \n",
       "3  0.4095238                    0.5904762          \n",
       "4  0.4380952                    0.5619048          \n",
       "5  0.4095238                    0.5904762          \n",
       "6  0.3809524                    0.6190476          \n",
       "7  0.3809524                    0.6190476          \n",
       "8  0.3714286                    0.6285714          \n",
       "9  0.3904762                    0.6095238          \n",
       "10 0.3809524                    0.6190476          \n",
       "11 0.3809524                    0.6190476          \n",
       "12 0.3809524                    0.6190476          \n",
       "13 0.3619048                    0.6380952          \n",
       "14 0.3714286                    0.6285714          \n",
       "15 0.3238095                    0.6761905          \n",
       "16 0.3333333                    0.6666667          \n",
       "17 0.3142857                    0.6857143          \n",
       "18 0.3523810                    0.6476190          \n",
       "19 0.3238095                    0.6761905          \n",
       "20 0.3047619                    0.6952381          \n",
       "   Train(70): Misclassification Train(60): Accuracy\n",
       "1  0.4476190                    0.5980861          \n",
       "2  0.4952381                    0.6363636          \n",
       "3  0.4095238                    0.6124402          \n",
       "4  0.4380952                    0.5885167          \n",
       "5  0.4095238                    0.6267943          \n",
       "6  0.3809524                    0.5980861          \n",
       "7  0.3809524                    0.5933014          \n",
       "8  0.3714286                    0.5885167          \n",
       "9  0.3904762                    0.6076555          \n",
       "10 0.3809524                    0.6220096          \n",
       "11 0.3809524                    0.6172249          \n",
       "12 0.3809524                    0.6363636          \n",
       "13 0.3619048                    0.6363636          \n",
       "14 0.3714286                    0.6507177          \n",
       "15 0.3238095                    0.6555024          \n",
       "16 0.3333333                    0.6507177          \n",
       "17 0.3142857                    0.6650718          \n",
       "18 0.3523810                    0.6555024          \n",
       "19 0.3238095                    0.6650718          \n",
       "20 0.3047619                    0.6459330          \n",
       "   Train(60): Misclassification Train(50): Accuracy\n",
       "1  0.4019139                    0.5938697          \n",
       "2  0.3636364                    0.5900383          \n",
       "3  0.3875598                    0.6015326          \n",
       "4  0.4114833                    0.5785441          \n",
       "5  0.3732057                    0.6091954          \n",
       "6  0.4019139                    0.6015326          \n",
       "7  0.4066986                    0.5747126          \n",
       "8  0.4114833                    0.6168582          \n",
       "9  0.3923445                    0.6168582          \n",
       "10 0.3779904                    0.6091954          \n",
       "11 0.3827751                    0.6321839          \n",
       "12 0.3636364                    0.6321839          \n",
       "13 0.3636364                    0.6398467          \n",
       "14 0.3492823                    0.6360153          \n",
       "15 0.3444976                    0.6628352          \n",
       "16 0.3492823                    0.6513410          \n",
       "17 0.3349282                    0.6475096          \n",
       "18 0.3444976                    0.6398467          \n",
       "19 0.3349282                    0.6475096          \n",
       "20 0.3540670                    0.6436782          \n",
       "   Train(50): Misclassification\n",
       "1  0.4061303                   \n",
       "2  0.4099617                   \n",
       "3  0.3984674                   \n",
       "4  0.4214559                   \n",
       "5  0.3908046                   \n",
       "6  0.3984674                   \n",
       "7  0.4252874                   \n",
       "8  0.3831418                   \n",
       "9  0.3831418                   \n",
       "10 0.3908046                   \n",
       "11 0.3678161                   \n",
       "12 0.3678161                   \n",
       "13 0.3601533                   \n",
       "14 0.3639847                   \n",
       "15 0.3371648                   \n",
       "16 0.3486590                   \n",
       "17 0.3524904                   \n",
       "18 0.3601533                   \n",
       "19 0.3524904                   \n",
       "20 0.3563218                   "
      ]
     },
     "metadata": {},
     "output_type": "display_data"
    }
   ],
   "source": [
    "results"
   ]
  },
  {
   "cell_type": "code",
   "execution_count": 65,
   "metadata": {
    "collapsed": false
   },
   "outputs": [
    {
     "data": {
      "text/html": [
       "0.339622641509434"
      ],
      "text/latex": [
       "0.339622641509434"
      ],
      "text/markdown": [
       "0.339622641509434"
      ],
      "text/plain": [
       "[1] 0.3396226"
      ]
     },
     "metadata": {},
     "output_type": "display_data"
    },
    {
     "data": {
      "text/html": [
       "0.304761904761905"
      ],
      "text/latex": [
       "0.304761904761905"
      ],
      "text/markdown": [
       "0.304761904761905"
      ],
      "text/plain": [
       "[1] 0.3047619"
      ]
     },
     "metadata": {},
     "output_type": "display_data"
    },
    {
     "data": {
      "text/html": [
       "0.304761904761905"
      ],
      "text/latex": [
       "0.304761904761905"
      ],
      "text/markdown": [
       "0.304761904761905"
      ],
      "text/plain": [
       "[1] 0.3047619"
      ]
     },
     "metadata": {},
     "output_type": "display_data"
    },
    {
     "data": {
      "text/html": [
       "0.334928229665072"
      ],
      "text/latex": [
       "0.334928229665072"
      ],
      "text/markdown": [
       "0.334928229665072"
      ],
      "text/plain": [
       "[1] 0.3349282"
      ]
     },
     "metadata": {},
     "output_type": "display_data"
    },
    {
     "data": {
      "text/html": [
       "0.337164750957854"
      ],
      "text/latex": [
       "0.337164750957854"
      ],
      "text/markdown": [
       "0.337164750957854"
      ],
      "text/plain": [
       "[1] 0.3371648"
      ]
     },
     "metadata": {},
     "output_type": "display_data"
    }
   ],
   "source": [
    "min(results$\"Train(90): Misclassification\")\n",
    "min(results$\"Train(80): Misclassification\")\n",
    "min(results$\"Train(70): Misclassification\")\n",
    "min(results$\"Train(60): Misclassification\")\n",
    "min(results$\"Train(50): Misclassification\")"
   ]
  },
  {
   "cell_type": "markdown",
   "metadata": {},
   "source": [
    "#### Thus minimum misclassification is 0.305, achieved for training set as 80% and 70% for a k value of 20."
   ]
  },
  {
   "cell_type": "markdown",
   "metadata": {},
   "source": [
    "### Plottng a graph for Misclassification for different divisions of training sets"
   ]
  },
  {
   "cell_type": "code",
   "execution_count": 66,
   "metadata": {
    "collapsed": false
   },
   "outputs": [
    {
     "data": {
      "image/png": "[encoded data removed]",
      "text/plain": [
       "plot without title"
      ]
     },
     "metadata": {},
     "output_type": "display_data"
    }
   ],
   "source": [
    "plot(results$k, results$\"Train(90): Misclassification\", type = 'b', xlab = 'k', ylab = 'Misclassification Rate', col=\"red\")\n",
    "lines(results$k, results$\"Train(80): Misclassification\",col=\"black\", type = 'b')\n",
    "lines(results$k, results$\"Train(70): Misclassification\",col=\"blue\", type = 'b')\n",
    "lines(results$k, results$\"Train(60): Misclassification\",col=\"pink\", type = 'b')\n",
    "lines(results$k, results$\"Train(50): Misclassification\",col=\"yellow\", type = 'b')\n"
   ]
  },
  {
   "cell_type": "markdown",
   "metadata": {},
   "source": [
    "### References:\n",
    "\n",
    "[1] Doing Data Science Book, Chapter 2, Pg - 71-81\n",
    "\n",
    "[2] https://www.r-bloggers.com/using-knn-classifier-to-predict-whether-the-price-of-stock-will-increase/"
   ]
  }
 ],
 "metadata": {
  "kernelspec": {
   "display_name": "R",
   "language": "R",
   "name": "ir"
  },
  "language_info": {
   "codemirror_mode": "r",
   "file_extension": ".r",
   "mimetype": "text/x-r-source",
   "name": "R",
   "pygments_lexer": "r",
   "version": "3.3.2"
  }
 },
 "nbformat": 4,
 "nbformat_minor": 2
}
